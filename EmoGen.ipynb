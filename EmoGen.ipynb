{
  "nbformat": 4,
  "nbformat_minor": 0,
  "metadata": {
    "colab": {
      "provenance": [],
      "gpuType": "A100",
      "collapsed_sections": [
        "J72su8lnFrWS",
        "RWKDqmc7Ftwx",
        "LFJ809r3Gr7y",
        "M5r-Sv1vGxdp"
      ],
      "machine_shape": "hm",
      "authorship_tag": "ABX9TyNlyped6My8AAaXdv5NVvkI",
      "include_colab_link": true
    },
    "kernelspec": {
      "name": "python3",
      "display_name": "Python 3"
    },
    "language_info": {
      "name": "python"
    },
    "accelerator": "GPU"
  },
  "cells": [
    {
      "cell_type": "markdown",
      "metadata": {
        "id": "view-in-github",
        "colab_type": "text"
      },
      "source": [
        "<a href=\"https://colab.research.google.com/github/chirazedrine/EmoGen/blob/main/EmoGen.ipynb\" target=\"_parent\"><img src=\"https://colab.research.google.com/assets/colab-badge.svg\" alt=\"Open In Colab\"/></a>"
      ]
    },
    {
      "cell_type": "markdown",
      "source": [
        "# Step 0: Dowload dependencies"
      ],
      "metadata": {
        "id": "J72su8lnFrWS"
      }
    },
    {
      "cell_type": "code",
      "source": [
        "!pip install torch torchvision"
      ],
      "metadata": {
        "id": "PXAPufZid-JU",
        "colab": {
          "base_uri": "https://localhost:8080/"
        },
        "outputId": "f96f1f9d-332b-4133-8411-c91bb71a596a"
      },
      "execution_count": null,
      "outputs": [
        {
          "output_type": "stream",
          "name": "stdout",
          "text": [
            "Requirement already satisfied: torch in /usr/local/lib/python3.10/dist-packages (2.2.1+cu121)\n",
            "Requirement already satisfied: torchvision in /usr/local/lib/python3.10/dist-packages (0.17.1+cu121)\n",
            "Requirement already satisfied: filelock in /usr/local/lib/python3.10/dist-packages (from torch) (3.13.1)\n",
            "Requirement already satisfied: typing-extensions>=4.8.0 in /usr/local/lib/python3.10/dist-packages (from torch) (4.10.0)\n",
            "Requirement already satisfied: sympy in /usr/local/lib/python3.10/dist-packages (from torch) (1.12)\n",
            "Requirement already satisfied: networkx in /usr/local/lib/python3.10/dist-packages (from torch) (3.2.1)\n",
            "Requirement already satisfied: jinja2 in /usr/local/lib/python3.10/dist-packages (from torch) (3.1.3)\n",
            "Requirement already satisfied: fsspec in /usr/local/lib/python3.10/dist-packages (from torch) (2023.6.0)\n",
            "Requirement already satisfied: nvidia-cuda-nvrtc-cu12==12.1.105 in /usr/local/lib/python3.10/dist-packages (from torch) (12.1.105)\n",
            "Requirement already satisfied: nvidia-cuda-runtime-cu12==12.1.105 in /usr/local/lib/python3.10/dist-packages (from torch) (12.1.105)\n",
            "Requirement already satisfied: nvidia-cuda-cupti-cu12==12.1.105 in /usr/local/lib/python3.10/dist-packages (from torch) (12.1.105)\n",
            "Requirement already satisfied: nvidia-cudnn-cu12==8.9.2.26 in /usr/local/lib/python3.10/dist-packages (from torch) (8.9.2.26)\n",
            "Requirement already satisfied: nvidia-cublas-cu12==12.1.3.1 in /usr/local/lib/python3.10/dist-packages (from torch) (12.1.3.1)\n",
            "Requirement already satisfied: nvidia-cufft-cu12==11.0.2.54 in /usr/local/lib/python3.10/dist-packages (from torch) (11.0.2.54)\n",
            "Requirement already satisfied: nvidia-curand-cu12==10.3.2.106 in /usr/local/lib/python3.10/dist-packages (from torch) (10.3.2.106)\n",
            "Requirement already satisfied: nvidia-cusolver-cu12==11.4.5.107 in /usr/local/lib/python3.10/dist-packages (from torch) (11.4.5.107)\n",
            "Requirement already satisfied: nvidia-cusparse-cu12==12.1.0.106 in /usr/local/lib/python3.10/dist-packages (from torch) (12.1.0.106)\n",
            "Requirement already satisfied: nvidia-nccl-cu12==2.19.3 in /usr/local/lib/python3.10/dist-packages (from torch) (2.19.3)\n",
            "Requirement already satisfied: nvidia-nvtx-cu12==12.1.105 in /usr/local/lib/python3.10/dist-packages (from torch) (12.1.105)\n",
            "Requirement already satisfied: triton==2.2.0 in /usr/local/lib/python3.10/dist-packages (from torch) (2.2.0)\n",
            "Requirement already satisfied: nvidia-nvjitlink-cu12 in /usr/local/lib/python3.10/dist-packages (from nvidia-cusolver-cu12==11.4.5.107->torch) (12.4.99)\n",
            "Requirement already satisfied: numpy in /usr/local/lib/python3.10/dist-packages (from torchvision) (1.25.2)\n",
            "Requirement already satisfied: pillow!=8.3.*,>=5.3.0 in /usr/local/lib/python3.10/dist-packages (from torchvision) (9.4.0)\n",
            "Requirement already satisfied: MarkupSafe>=2.0 in /usr/local/lib/python3.10/dist-packages (from jinja2->torch) (2.1.5)\n",
            "Requirement already satisfied: mpmath>=0.19 in /usr/local/lib/python3.10/dist-packages (from sympy->torch) (1.3.0)\n"
          ]
        }
      ]
    },
    {
      "cell_type": "markdown",
      "source": [
        "# Step 1: Download and extract the dataset"
      ],
      "metadata": {
        "id": "RWKDqmc7Ftwx"
      }
    },
    {
      "cell_type": "code",
      "source": [
        "!wget -O EmoSet-118K.zip \"https://www.dropbox.com/scl/fi/myue506itjfc06m7svdw6/EmoSet-118K.zip?dl=1&rlkey=7f3oyjkr6zyndf0gau7t140rv\"\n"
      ],
      "metadata": {
        "colab": {
          "base_uri": "https://localhost:8080/"
        },
        "id": "Ligk_oCSDAmm",
        "outputId": "f1a11b32-8267-4a29-9463-3f4ae1d5e1e3"
      },
      "execution_count": null,
      "outputs": [
        {
          "output_type": "stream",
          "name": "stdout",
          "text": [
            "--2024-03-21 05:30:59--  https://www.dropbox.com/scl/fi/myue506itjfc06m7svdw6/EmoSet-118K.zip?dl=1&rlkey=7f3oyjkr6zyndf0gau7t140rv\n",
            "Resolving www.dropbox.com (www.dropbox.com)... 162.125.4.18, 2620:100:6016:18::a27d:112\n",
            "Connecting to www.dropbox.com (www.dropbox.com)|162.125.4.18|:443... connected.\n",
            "HTTP request sent, awaiting response... 302 Found\n",
            "Location: https://uc8bfe067a52773e8357b5b0bd79.dl.dropboxusercontent.com/cd/0/inline/CPcQ9gcZ3MSkym0Hy0Kv8FaQ7kQZTi7jVrIuQxQ5p2TkQz801w6fFXOKQF3nbVmkFA_Jkura9FnDupQ1AJWt_XlPrUUA-sf4LWwVKsaJfnHmb-K2KXKcTZtzhAi5bR2snE6n_SZrNKqVxFxd731lz9tt/file?dl=1# [following]\n",
            "--2024-03-21 05:31:00--  https://uc8bfe067a52773e8357b5b0bd79.dl.dropboxusercontent.com/cd/0/inline/CPcQ9gcZ3MSkym0Hy0Kv8FaQ7kQZTi7jVrIuQxQ5p2TkQz801w6fFXOKQF3nbVmkFA_Jkura9FnDupQ1AJWt_XlPrUUA-sf4LWwVKsaJfnHmb-K2KXKcTZtzhAi5bR2snE6n_SZrNKqVxFxd731lz9tt/file?dl=1\n",
            "Resolving uc8bfe067a52773e8357b5b0bd79.dl.dropboxusercontent.com (uc8bfe067a52773e8357b5b0bd79.dl.dropboxusercontent.com)... 162.125.13.15, 2620:100:6016:15::a27d:10f\n",
            "Connecting to uc8bfe067a52773e8357b5b0bd79.dl.dropboxusercontent.com (uc8bfe067a52773e8357b5b0bd79.dl.dropboxusercontent.com)|162.125.13.15|:443... connected.\n",
            "HTTP request sent, awaiting response... 302 Found\n",
            "Location: /cd/0/inline2/CPe9miVMQFdavp2XZUTGZfpGRFkYT0wjyZC6-qkPOoTb8iWV1aC29Ra_5LCVUUhBYWvf3i58jGvTyUwo8dl-Y2W01sYyjoGhvSlov4iuF2HMr0fKsTHoQtEfko9FQctgNJOkbQlsKKnXN_cIt9XdREn7B47reTRXBsQfor7mZnuHtws6Wg7SjJOCCqzqt4jVXJLoGDbKQXVaxqwfD4pcnyf0BLZ475AZyNtDf4k_vW7YX-eJDju7pP8zigC_k11jGDxNQQBqSnZdo9i-gmLac_TII54tzuqYUVToNgb3iYlvR15ACFO8iOXEnGS8yRgz25Z0lHNWt3lWmIStlpwaf0HbEvbRtkEPNGL-z6sW_RDYlCPxXzLqhPoaVWQiSf5ZFSc/file?dl=1 [following]\n",
            "--2024-03-21 05:31:01--  https://uc8bfe067a52773e8357b5b0bd79.dl.dropboxusercontent.com/cd/0/inline2/CPe9miVMQFdavp2XZUTGZfpGRFkYT0wjyZC6-qkPOoTb8iWV1aC29Ra_5LCVUUhBYWvf3i58jGvTyUwo8dl-Y2W01sYyjoGhvSlov4iuF2HMr0fKsTHoQtEfko9FQctgNJOkbQlsKKnXN_cIt9XdREn7B47reTRXBsQfor7mZnuHtws6Wg7SjJOCCqzqt4jVXJLoGDbKQXVaxqwfD4pcnyf0BLZ475AZyNtDf4k_vW7YX-eJDju7pP8zigC_k11jGDxNQQBqSnZdo9i-gmLac_TII54tzuqYUVToNgb3iYlvR15ACFO8iOXEnGS8yRgz25Z0lHNWt3lWmIStlpwaf0HbEvbRtkEPNGL-z6sW_RDYlCPxXzLqhPoaVWQiSf5ZFSc/file?dl=1\n",
            "Reusing existing connection to uc8bfe067a52773e8357b5b0bd79.dl.dropboxusercontent.com:443.\n",
            "HTTP request sent, awaiting response... 200 OK\n",
            "Length: 11288914945 (11G) [application/binary]\n",
            "Saving to: ‘EmoSet-118K.zip’\n",
            "\n",
            "EmoSet-118K.zip     100%[===================>]  10.51G  49.5MB/s    in 2m 7s   \n",
            "\n",
            "2024-03-21 05:33:08 (85.1 MB/s) - ‘EmoSet-118K.zip’ saved [11288914945/11288914945]\n",
            "\n"
          ]
        }
      ]
    },
    {
      "cell_type": "code",
      "source": [
        "!unzip -q EmoSet-118K.zip -d /content/EmoSet-118K/"
      ],
      "metadata": {
        "id": "YBf4o0f4Deuz",
        "colab": {
          "base_uri": "https://localhost:8080/"
        },
        "outputId": "b9568f13-71eb-4d54-c981-f0476edb2aa8"
      },
      "execution_count": null,
      "outputs": [
        {
          "output_type": "stream",
          "name": "stdout",
          "text": [
            "replace /content/EmoSet-118K/annotation/amusement/amusement_00000.json? [y]es, [n]o, [A]ll, [N]one, [r]ename: y\n",
            "replace /content/EmoSet-118K/annotation/amusement/amusement_00001.json? [y]es, [n]o, [A]ll, [N]one, [r]ename: "
          ]
        }
      ]
    },
    {
      "cell_type": "markdown",
      "source": [
        "# Step 2: Parse the JSON files to create a mapping for image paths and labels"
      ],
      "metadata": {
        "id": "xHGVt4cTFn_G"
      }
    },
    {
      "cell_type": "code",
      "source": [
        "import os\n",
        "import json\n",
        "import torch\n",
        "import torchvision.models as models\n",
        "from torchvision import transforms\n",
        "from torch.utils.data import Dataset, DataLoader\n",
        "from PIL import Image\n",
        "import torch.nn as nn\n",
        "\n",
        "base_path = '/content/EmoSet-118K'\n",
        "annotations_dir = os.path.join(base_path, 'annotation')\n",
        "images_dir = os.path.join(base_path, 'image')\n",
        "\n",
        "# Parse JSON annotations\n",
        "def parse_annotations(annotations_dir):\n",
        "    annotations = []\n",
        "    for emotion_dir_name in os.listdir(annotations_dir):\n",
        "        emotion_dir_path = os.path.join(annotations_dir, emotion_dir_name)\n",
        "        if os.path.isdir(emotion_dir_path):\n",
        "            for annotation_file in os.listdir(emotion_dir_path):\n",
        "                annotation_file_path = os.path.join(emotion_dir_path, annotation_file)\n",
        "                with open(annotation_file_path, 'r') as f:\n",
        "                    annotation_data = json.load(f)\n",
        "                    annotations.append(annotation_data)\n",
        "    return annotations\n",
        "\n",
        "annotations = parse_annotations(annotations_dir)\n",
        "\n",
        "# Verify the number of annotations loaded\n",
        "print(f\"Loaded {len(annotations)} annotations.\")\n",
        "\n",
        "# Extract unique emotions and create a mapping to indices\n",
        "unique_emotions = sorted({anno['emotion'] for anno in annotations})\n",
        "emotion_to_idx = {emotion: idx for idx, emotion in enumerate(unique_emotions)}\n",
        "print(f\"Unique emotions found: {list(emotion_to_idx.keys())}\")\n",
        "\n",
        "class EmoSetDataset(Dataset):\n",
        "    def __init__(self, annotations, images_dir, transform=None):\n",
        "        self.annotations = annotations\n",
        "        self.images_dir = images_dir\n",
        "        self.transform = transform\n",
        "\n",
        "    def __len__(self):\n",
        "        return len(self.annotations)\n",
        "\n",
        "    def __getitem__(self, idx):\n",
        "        annotation = self.annotations[idx]\n",
        "        image_path = os.path.join(self.images_dir, annotation['emotion'], f\"{annotation['image_id']}.jpg\")\n",
        "        image = Image.open(image_path).convert('RGB')\n",
        "        label = emotion_to_idx[annotation['emotion']]\n",
        "\n",
        "        if self.transform:\n",
        "            image = self.transform(image)\n",
        "\n",
        "        return image, label\n",
        "\n",
        "# Transformations\n",
        "transform = transforms.Compose([\n",
        "    transforms.Resize((224, 224)),\n",
        "    transforms.ToTensor(),\n",
        "    transforms.Normalize(mean=[0.485, 0.456, 0.406], std=[0.229, 0.224, 0.225]),\n",
        "])\n",
        "\n",
        "# Dataset and DataLoader\n",
        "dataset = EmoSetDataset(annotations, images_dir, transform=transform)\n",
        "data_loader = DataLoader(dataset, batch_size=32, shuffle=True)\n"
      ],
      "metadata": {
        "id": "qCP3iwIYFpSO",
        "colab": {
          "base_uri": "https://localhost:8080/",
          "height": 332
        },
        "outputId": "37eec674-bb93-492e-8c28-44cf9b1b669f"
      },
      "execution_count": null,
      "outputs": [
        {
          "output_type": "error",
          "ename": "NameError",
          "evalue": "name '_C' is not defined",
          "traceback": [
            "\u001b[0;31m---------------------------------------------------------------------------\u001b[0m",
            "\u001b[0;31mNameError\u001b[0m                                 Traceback (most recent call last)",
            "\u001b[0;32m<ipython-input-20-d53801d02fbc>\u001b[0m in \u001b[0;36m<cell line: 3>\u001b[0;34m()\u001b[0m\n\u001b[1;32m      1\u001b[0m \u001b[0;32mimport\u001b[0m \u001b[0mos\u001b[0m\u001b[0;34m\u001b[0m\u001b[0;34m\u001b[0m\u001b[0m\n\u001b[1;32m      2\u001b[0m \u001b[0;32mimport\u001b[0m \u001b[0mjson\u001b[0m\u001b[0;34m\u001b[0m\u001b[0;34m\u001b[0m\u001b[0m\n\u001b[0;32m----> 3\u001b[0;31m \u001b[0;32mimport\u001b[0m \u001b[0mtorch\u001b[0m\u001b[0;34m\u001b[0m\u001b[0;34m\u001b[0m\u001b[0m\n\u001b[0m\u001b[1;32m      4\u001b[0m \u001b[0;32mimport\u001b[0m \u001b[0mtorchvision\u001b[0m\u001b[0;34m.\u001b[0m\u001b[0mmodels\u001b[0m \u001b[0;32mas\u001b[0m \u001b[0mmodels\u001b[0m\u001b[0;34m\u001b[0m\u001b[0;34m\u001b[0m\u001b[0m\n\u001b[1;32m      5\u001b[0m \u001b[0;32mfrom\u001b[0m \u001b[0mtorchvision\u001b[0m \u001b[0;32mimport\u001b[0m \u001b[0mtransforms\u001b[0m\u001b[0;34m\u001b[0m\u001b[0;34m\u001b[0m\u001b[0m\n",
            "\u001b[0;32m/usr/local/lib/python3.10/dist-packages/torch/__init__.py\u001b[0m in \u001b[0;36m<module>\u001b[0;34m\u001b[0m\n\u001b[1;32m    531\u001b[0m     \u001b[0;32mraise\u001b[0m  \u001b[0;31m# If __file__ is not None the cause is unknown, so just re-raise.\u001b[0m\u001b[0;34m\u001b[0m\u001b[0;34m\u001b[0m\u001b[0m\n\u001b[1;32m    532\u001b[0m \u001b[0;34m\u001b[0m\u001b[0m\n\u001b[0;32m--> 533\u001b[0;31m \u001b[0;32mfor\u001b[0m \u001b[0mname\u001b[0m \u001b[0;32min\u001b[0m \u001b[0mdir\u001b[0m\u001b[0;34m(\u001b[0m\u001b[0m_C\u001b[0m\u001b[0;34m)\u001b[0m\u001b[0;34m:\u001b[0m\u001b[0;34m\u001b[0m\u001b[0;34m\u001b[0m\u001b[0m\n\u001b[0m\u001b[1;32m    534\u001b[0m     \u001b[0;32mif\u001b[0m \u001b[0mname\u001b[0m\u001b[0;34m[\u001b[0m\u001b[0;36m0\u001b[0m\u001b[0;34m]\u001b[0m \u001b[0;34m!=\u001b[0m \u001b[0;34m'_'\u001b[0m \u001b[0;32mand\u001b[0m \u001b[0;32mnot\u001b[0m \u001b[0mname\u001b[0m\u001b[0;34m.\u001b[0m\u001b[0mendswith\u001b[0m\u001b[0;34m(\u001b[0m\u001b[0;34m'Base'\u001b[0m\u001b[0;34m)\u001b[0m\u001b[0;34m:\u001b[0m\u001b[0;34m\u001b[0m\u001b[0;34m\u001b[0m\u001b[0m\n\u001b[1;32m    535\u001b[0m         \u001b[0m__all__\u001b[0m\u001b[0;34m.\u001b[0m\u001b[0mappend\u001b[0m\u001b[0;34m(\u001b[0m\u001b[0mname\u001b[0m\u001b[0;34m)\u001b[0m\u001b[0;34m\u001b[0m\u001b[0;34m\u001b[0m\u001b[0m\n",
            "\u001b[0;31mNameError\u001b[0m: name '_C' is not defined"
          ]
        }
      ]
    },
    {
      "cell_type": "markdown",
      "source": [
        "# Step 3-4: Define the CNN model for emotion classification"
      ],
      "metadata": {
        "id": "PvcJqFUJGUpi"
      }
    },
    {
      "cell_type": "code",
      "source": [
        "from torchvision.models import efficientnet_b0, EfficientNet_B0_Weights\n",
        "from torch import nn, optim\n",
        "\n",
        "# Load pre-trained EfficientNet-B0 model\n",
        "weights = EfficientNet_B0_Weights.DEFAULT\n",
        "model = efficientnet_b0(weights=weights)\n",
        "\n",
        "# Replace the classifier to match the number of unique emotions\n",
        "num_ftrs = model.classifier[1].in_features\n",
        "model.classifier[1] = nn.Linear(num_ftrs, len(unique_emotions))\n",
        "\n",
        "# Setup device: Use GPU if available, else fall back to CPU\n",
        "device = torch.device('cuda' if torch.cuda.is_available() else 'cpu')\n",
        "print(f'Using device: {device}')\n",
        "\n",
        "# Move model to the appropriate device\n",
        "model = model.to(device)\n",
        "\n",
        "# Define the optimizer\n",
        "optimizer = optim.Adam(model.parameters(), lr=0.001)\n"
      ],
      "metadata": {
        "id": "NCMvgQsxGYEB"
      },
      "execution_count": null,
      "outputs": []
    },
    {
      "cell_type": "markdown",
      "source": [
        "# Step 5: Train the model -- deprecated"
      ],
      "metadata": {
        "id": "LFJ809r3Gr7y"
      }
    },
    {
      "cell_type": "code",
      "source": [
        "!pip install tqdm"
      ],
      "metadata": {
        "id": "EN3PKkLRk8KD"
      },
      "execution_count": null,
      "outputs": []
    },
    {
      "cell_type": "markdown",
      "source": [
        "##Adjust training loop for early stopping"
      ],
      "metadata": {
        "id": "BGCVCK0iMLY4"
      }
    },
    {
      "cell_type": "code",
      "source": [
        "from sklearn.model_selection import train_test_split\n",
        "from torch.utils.data import Subset\n",
        "from tqdm import tqdm\n",
        "\n",
        "# Assuming annotations is a list of dictionaries, split it into training and validation\n",
        "train_annos, val_annos = train_test_split(annotations, test_size=0.2, random_state=42)\n",
        "\n",
        "# Create datasets for training and validation\n",
        "train_dataset = EmoSetDataset(train_annos, images_dir, transform=train_transforms)\n",
        "val_dataset = EmoSetDataset(val_annos, images_dir, transform=transform)  # Use the original transform for validation\n",
        "\n",
        "# Data loaders for training and validation\n",
        "train_loader = DataLoader(train_dataset, batch_size=32, shuffle=True)\n",
        "val_loader = DataLoader(val_dataset, batch_size=32, shuffle=False)\n",
        "\n",
        "# Define early stopping parameters\n",
        "early_stopping_patience = 5\n",
        "early_stopping_counter = 0\n",
        "best_val_loss = float('inf')\n",
        "\n",
        "for epoch in range(num_epochs):\n",
        "    model.train()\n",
        "    total_train_loss = 0\n",
        "\n",
        "    for inputs, labels in tqdm(train_loader, desc=f'Training Epoch {epoch+1}'):\n",
        "        inputs, labels = inputs.to(device), labels.to(device)\n",
        "        optimizer.zero_grad()\n",
        "        outputs = model(inputs)\n",
        "        loss = criterion(outputs, labels)\n",
        "        loss.backward()\n",
        "        optimizer.step()\n",
        "        total_train_loss += loss.item()\n",
        "\n",
        "    # Validation phase\n",
        "    model.eval()\n",
        "    total_val_loss = 0\n",
        "\n",
        "    with torch.no_grad():\n",
        "        for inputs, labels in tqdm(val_loader, desc='Validation'):\n",
        "            inputs, labels = inputs.to(device), labels.to(device)\n",
        "            outputs = model(inputs)\n",
        "            loss = criterion(outputs, labels)\n",
        "            total_val_loss += loss.item()\n",
        "\n",
        "    avg_train_loss = total_train_loss / len(train_loader)\n",
        "    avg_val_loss = total_val_loss / len(val_loader)\n",
        "\n",
        "    print(f'Epoch {epoch+1}, Train Loss: {avg_train_loss:.4f}, Val Loss: {avg_val_loss:.4f}')\n",
        "\n",
        "    # Early stopping logic\n",
        "    if avg_val_loss < best_val_loss:\n",
        "        best_val_loss = avg_val_loss\n",
        "        early_stopping_counter = 0\n",
        "        # Save the best model\n",
        "        torch.save(model.state_dict(), '/content/drive/My Drive/EmoGen/best_model.pth')\n",
        "    else:\n",
        "        early_stopping_counter += 1\n",
        "        if early_stopping_counter >= early_stopping_patience:\n",
        "            print('Early stopping triggered.')\n",
        "            break"
      ],
      "metadata": {
        "id": "Hf_wSLx_MWPF"
      },
      "execution_count": null,
      "outputs": []
    },
    {
      "cell_type": "markdown",
      "source": [
        "## Step 5.5: Test data"
      ],
      "metadata": {
        "id": "UTwkiI8t3gA_"
      }
    },
    {
      "cell_type": "code",
      "source": [
        "import os\n",
        "import shutil\n",
        "from random import sample\n",
        "\n",
        "# Base directory for dataset images\n",
        "base_path = '/content/EmoSet-118K/image'\n",
        "# Directory for test images\n",
        "test_dir = '/content/test'\n",
        "\n",
        "# Create test directory if it doesn't exist\n",
        "if not os.path.exists(test_dir):\n",
        "    os.makedirs(test_dir)\n",
        "    print(f\"Created test directory: {test_dir}\")\n",
        "else:\n",
        "    print(f\"Test directory already exists: {test_dir}\")\n",
        "\n",
        "# Get all images from each emotion subdirectory\n",
        "all_images = []\n",
        "emotion_subdirs = [d for d in os.listdir(base_path) if os.path.isdir(os.path.join(base_path, d))]\n",
        "\n",
        "for emotion_subdir in emotion_subdirs:\n",
        "    emotion_path = os.path.join(base_path, emotion_subdir)\n",
        "    images = [os.path.join(emotion_path, img) for img in os.listdir(emotion_path) if img.lower().endswith(('.png', '.jpg', '.jpeg'))]\n",
        "    all_images.extend(images)\n",
        "\n",
        "# Sample 100 images or the total number of images if less than 100\n",
        "num_images_to_select = min(100, len(all_images))\n",
        "selected_images = sample(all_images, num_images_to_select)\n",
        "\n",
        "# Copy selected images to the test directory, maintaining the emotion subdirectory structure\n",
        "for img_path in selected_images:\n",
        "    emotion_subdir = os.path.basename(os.path.dirname(img_path))\n",
        "    destination_subdir = os.path.join(test_dir, emotion_subdir)\n",
        "    if not os.path.exists(destination_subdir):\n",
        "        os.makedirs(destination_subdir)\n",
        "    shutil.copy(img_path, destination_subdir)\n",
        "\n",
        "print(f\"Completed preparing the test set with {num_images_to_select} images in: {test_dir}\")\n"
      ],
      "metadata": {
        "id": "w7ei7LN33j7J"
      },
      "execution_count": null,
      "outputs": []
    },
    {
      "cell_type": "markdown",
      "source": [
        "# Step 6: Evaluate the model -- deprecated"
      ],
      "metadata": {
        "id": "M5r-Sv1vGxdp"
      }
    },
    {
      "cell_type": "code",
      "source": [
        "from torchvision import transforms\n",
        "from torch.utils.data import DataLoader\n",
        "from tqdm import tqdm\n",
        "\n",
        "# Assuming the EmoSetDataset class and emotion_to_idx have been defined in earlier steps\n",
        "# Define the transformation applied to the test images\n",
        "transform = transforms.Compose([\n",
        "    transforms.Resize((224, 224)),\n",
        "    transforms.ToTensor(),\n",
        "    transforms.Normalize(mean=[0.485, 0.456, 0.406], std=[0.229, 0.224, 0.225]),\n",
        "])\n",
        "\n",
        "# Prepare the test dataset\n",
        "test_annotations = [{\n",
        "    'emotion': os.path.basename(os.path.dirname(img_path)),\n",
        "    'image_id': os.path.splitext(os.path.basename(img_path))[0]\n",
        "} for img_path in selected_images]\n",
        "\n",
        "# Initialize the test dataset with the test_dir as the images_dir\n",
        "test_dataset = EmoSetDataset(test_annotations, images_dir=test_dir, transform=transform)\n",
        "\n",
        "# Initialize the DataLoader for the test dataset\n",
        "test_loader = DataLoader(test_dataset, batch_size=32, shuffle=False)\n",
        "\n",
        "# Evaluate the model\n",
        "device = torch.device('cuda' if torch.cuda.is_available() else 'cpu')\n",
        "model.to(device)\n",
        "model.eval()\n",
        "\n",
        "running_corrects = 0\n",
        "total_samples = 0\n",
        "\n",
        "for inputs, labels in tqdm(test_loader, desc=\"Evaluating\"):\n",
        "    inputs, labels = inputs.to(device), labels.to(device)\n",
        "    with torch.no_grad():\n",
        "        outputs = model(inputs)\n",
        "        _, preds = torch.max(outputs, 1)\n",
        "        running_corrects += torch.sum(preds == labels).item()\n",
        "    total_samples += labels.size(0)\n",
        "\n",
        "test_acc = running_corrects / total_samples\n",
        "print(f\"Test Accuracy: {test_acc:.4f}\")"
      ],
      "metadata": {
        "id": "TX80GsE_GzvJ"
      },
      "execution_count": null,
      "outputs": []
    },
    {
      "cell_type": "code",
      "source": [
        "print(f\"Number of test annotations: {len(test_annotations)}\")\n",
        "print(\"Sample test annotations:\", test_annotations[:3])"
      ],
      "metadata": {
        "id": "BYE9SGzc2OkU"
      },
      "execution_count": null,
      "outputs": []
    },
    {
      "cell_type": "markdown",
      "source": [
        "# Step 5-6: training and validation\n"
      ],
      "metadata": {
        "id": "-Z23mg2_qKfw"
      }
    },
    {
      "cell_type": "code",
      "source": [
        "import torch\n",
        "from torch import nn, optim\n",
        "from torch.utils.data import DataLoader\n",
        "from torchvision import transforms\n",
        "from torchvision.models import efficientnet_b0, EfficientNet_B0_Weights\n",
        "from sklearn.model_selection import train_test_split\n",
        "from tqdm import tqdm\n",
        "import os\n",
        "import json\n",
        "from PIL import Image\n",
        "\n",
        "# Function to calculate accuracy\n",
        "def calculate_accuracy(outputs, labels):\n",
        "    _, preds = torch.max(outputs, 1)\n",
        "    return torch.sum(preds == labels).item() / labels.size(0)\n",
        "\n",
        "# Load pre-trained EfficientNet-B0 model\n",
        "weights = EfficientNet_B0_Weights.DEFAULT\n",
        "model = efficientnet_b0(weights=weights)\n",
        "\n",
        "# Replace the classifier to match the number of unique emotions\n",
        "num_ftrs = model.classifier[1].in_features\n",
        "model.classifier[1] = nn.Linear(num_ftrs, len(unique_emotions))\n",
        "\n",
        "# Setup device\n",
        "device = torch.device('cuda' if torch.cuda.is_available() else 'cpu')\n",
        "model = model.to(device)\n",
        "\n",
        "# Define the loss function and optimizer\n",
        "criterion = nn.CrossEntropyLoss()\n",
        "optimizer = optim.Adam(model.parameters(), lr=0.001)\n",
        "\n",
        "# Data augmentation and normalization for training\n",
        "train_transforms = transforms.Compose([\n",
        "    transforms.RandomResizedCrop(224),\n",
        "    transforms.RandomHorizontalFlip(),\n",
        "    transforms.ToTensor(),\n",
        "    transforms.Normalize([0.485, 0.456, 0.406], [0.229, 0.224, 0.225])\n",
        "])\n",
        "\n",
        "# Transformations for validation and test sets\n",
        "transform = transforms.Compose([\n",
        "    transforms.Resize((224, 224)),\n",
        "    transforms.ToTensor(),\n",
        "    transforms.Normalize([0.485, 0.456, 0.406], [0.229, 0.224, 0.225])\n",
        "])\n",
        "\n",
        "# Split annotations into training and validation\n",
        "train_annos, val_annos = train_test_split(annotations, test_size=0.2, random_state=42)\n",
        "\n",
        "# Create datasets and data loaders for training and validation\n",
        "train_dataset = EmoSetDataset(train_annos, images_dir, transform=train_transforms)\n",
        "val_dataset = EmoSetDataset(val_annos, images_dir, transform=transform)\n",
        "train_loader = DataLoader(train_dataset, batch_size=32, shuffle=True)\n",
        "val_loader = DataLoader(val_dataset, batch_size=32, shuffle=False)\n",
        "\n",
        "# Training and validation loop with early stopping\n",
        "num_epochs = 5\n",
        "best_val_accuracy = 0\n",
        "\n",
        "for epoch in range(num_epochs):\n",
        "    model.train()\n",
        "    total_train_loss, total_train_accuracy = 0, 0\n",
        "\n",
        "    for inputs, labels in tqdm(train_loader, desc=f'Training Epoch {epoch+1}'):\n",
        "        inputs, labels = inputs.to(device), labels.to(device)\n",
        "        optimizer.zero_grad()\n",
        "        outputs = model(inputs)\n",
        "        loss = criterion(outputs, labels)\n",
        "        loss.backward()\n",
        "        optimizer.step()\n",
        "\n",
        "        total_train_loss += loss.item() * inputs.size(0)\n",
        "        total_train_accuracy += calculate_accuracy(outputs, labels) * inputs.size(0)\n",
        "\n",
        "    epoch_loss = total_train_loss / len(train_loader.dataset)\n",
        "    epoch_accuracy = total_train_accuracy / len(train_loader.dataset)\n",
        "    print(f'Training - Epoch {epoch+1}, Loss: {epoch_loss:.4f}, Accuracy: {epoch_accuracy:.4f}')\n",
        "\n",
        "    # Validation phase\n",
        "    model.eval()\n",
        "    total_val_loss, total_val_accuracy = 0, 0\n",
        "\n",
        "    with torch.no_grad():\n",
        "        for inputs, labels in tqdm(val_loader, desc='Validation'):\n",
        "            inputs, labels = inputs.to(device), labels.to(device)\n",
        "            outputs = model(inputs)\n",
        "            loss = criterion(outputs, labels)\n",
        "\n",
        "            total_val_loss += loss.item() * inputs.size(0)\n",
        "            total_val_accuracy += calculate_accuracy(outputs, labels) * inputs.size(0)\n",
        "\n",
        "    val_epoch_loss = total_val_loss / len(val_loader.dataset)\n",
        "    val_epoch_accuracy = total_val_accuracy / len(val_loader.dataset)\n",
        "    print(f'Validation - Epoch {epoch+1}, Loss: {val_epoch_loss:.4f}, Accuracy: {val_epoch_accuracy:.4f}')\n",
        "\n",
        "    if val_epoch_accuracy > best_val_accuracy:\n",
        "        best_val_accuracy = val_epoch_accuracy\n",
        "        torch.save(model.state_dict(), 'best_model.pth')\n",
        "        print(\"Best model saved with Accuracy:\", best_val_accuracy)\n",
        "\n",
        "# Load the best model\n",
        "model.load_state_dict(torch.load('best_model.pth'))\n",
        "model.eval()\n",
        "test_running_corrects = 0\n",
        "\n",
        "for inputs, labels in tqdm(test_loader, desc=\"Evaluating\"):\n",
        "    inputs, labels = inputs.to(device), labels.to(device)\n",
        "    with torch.no_grad():\n",
        "        outputs = model(inputs)\n",
        "        test_running_corrects += calculate_accuracy(outputs, labels) * inputs.size(0)\n",
        "\n",
        "test_accuracy = test_running_corrects / len(test_loader.dataset)\n",
        "print(f\"Test Accuracy: {test_accuracy:.4f}\")"
      ],
      "metadata": {
        "id": "4tkOKruuqNBc"
      },
      "execution_count": null,
      "outputs": []
    },
    {
      "cell_type": "markdown",
      "source": [
        "# Step 7: Predict emotion for new images"
      ],
      "metadata": {
        "id": "2cfVh3OnIn2V"
      }
    },
    {
      "cell_type": "code",
      "source": [
        "import torch\n",
        "from torchvision import transforms\n",
        "from PIL import Image\n",
        "\n",
        "model_path = '/content/drive/My Drive/EmoGen/best_model.pth'\n",
        "model.load_state_dict(torch.load(model_path))\n",
        "model.eval()\n",
        "\n",
        "def predict_emotion(image_path, model):\n",
        "     idx_to_emotion = {\n",
        "        0: 'Amusement',\n",
        "        1: 'Anger',\n",
        "        2: 'Awe',\n",
        "        3: 'Contentment',\n",
        "        4: 'Disgust',\n",
        "        5: 'Excitement',\n",
        "        6: 'Fear',\n",
        "        7: 'Sadness'\n",
        "    }\n",
        "    image = preprocess_image(image_path)\n",
        "    with torch.no_grad():\n",
        "        outputs = model(image)\n",
        "        _, predicted_idx = torch.max(outputs, 1)\n",
        "        predicted_emotion = idx_to_emotion[predicted_idx.item()]\n",
        "    return predicted_emotion\n",
        "\n",
        "image_path = '/content/Inputs/image.jpg'\n",
        "predicted_emotion = predict_emotion(image_path, model)\n",
        "print(f\"Predicted emotion: {predicted_emotion}\")"
      ],
      "metadata": {
        "id": "q3H87g7mIupy"
      },
      "execution_count": null,
      "outputs": []
    },
    {
      "cell_type": "markdown",
      "source": [
        "# Step 8: Generate plots"
      ],
      "metadata": {
        "id": "hEFoXnMkZA8O"
      }
    },
    {
      "cell_type": "code",
      "source": [
        "import matplotlib.pyplot as plt\n",
        "import numpy as np\n",
        "\n",
        "# Define the data for epochs, training/validation loss, and training/validation accuracy\n",
        "epochs = np.arange(1, 6)\n",
        "train_loss = [1.2100, 1.0865, 1.0342, 0.9934, 0.9656]\n",
        "val_loss = [1.0062, 0.9603, 0.9240, 0.8709, 0.8657]\n",
        "train_accuracy = [56.41, 60.60, 62.53, 64.06, 65.03]\n",
        "val_accuracy = [64.57, 65.77, 67.43, 68.31, 68.89]\n",
        "\n",
        "# Plot training and validation loss\n",
        "plt.figure(figsize=(10, 5))\n",
        "plt.plot(epochs, train_loss, 'o-', label='Training Loss')\n",
        "plt.plot(epochs, val_loss, 'o-', label='Validation Loss')\n",
        "plt.title('Training and Validation Loss')\n",
        "plt.xlabel('Epoch')\n",
        "plt.ylabel('Loss')\n",
        "plt.legend()\n",
        "plt.grid(True)\n",
        "\n",
        "plt.savefig(\"/content/loss_plot.png\")\n",
        "\n",
        "# Plot training and validation accuracy\n",
        "plt.figure(figsize=(10, 5))\n",
        "plt.plot(epochs, train_accuracy, 'o-', label='Training Accuracy')\n",
        "plt.plot(epochs, val_accuracy, 'o-', label='Validation Accuracy')\n",
        "plt.title('Training and Validation Accuracy')\n",
        "plt.xlabel('Epoch')\n",
        "plt.ylabel('Accuracy (%)')\n",
        "plt.legend()\n",
        "plt.grid(True)\n",
        "\n",
        "plt.savefig(\"/content/accuracy_plot.png\")\n",
        "\n",
        "# Show the plots\n",
        "plt.show()\n",
        "\n",
        "# Return paths to the generated plots\n",
        "loss_plot_path = \"/mnt/data/loss_plot.png\"\n",
        "accuracy_plot_path = \"/mnt/data/accuracy_plot.png\"\n",
        "(loss_plot_path, accuracy_plot_path)"
      ],
      "metadata": {
        "id": "7WVyYxtOZDbF"
      },
      "execution_count": null,
      "outputs": []
    }
  ]
}