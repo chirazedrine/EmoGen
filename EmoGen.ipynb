{
  "nbformat": 4,
  "nbformat_minor": 0,
  "metadata": {
    "colab": {
      "provenance": [],
      "gpuType": "A100",
      "machine_shape": "hm",
      "authorship_tag": "ABX9TyMkUV2EYoSpVsKlFRv1oYRg",
      "include_colab_link": true
    },
    "kernelspec": {
      "name": "python3",
      "display_name": "Python 3"
    },
    "language_info": {
      "name": "python"
    },
    "accelerator": "GPU"
  },
  "cells": [
    {
      "cell_type": "markdown",
      "metadata": {
        "id": "view-in-github",
        "colab_type": "text"
      },
      "source": [
        "<a href=\"https://colab.research.google.com/github/chirazedrine/EmoGen/blob/main/EmoGen.ipynb\" target=\"_parent\"><img src=\"https://colab.research.google.com/assets/colab-badge.svg\" alt=\"Open In Colab\"/></a>"
      ]
    },
    {
      "cell_type": "markdown",
      "source": [
        "# Step 0: Dowload dependencies"
      ],
      "metadata": {
        "id": "J72su8lnFrWS"
      }
    },
    {
      "cell_type": "code",
      "source": [
        "!pip install torch torchvision"
      ],
      "metadata": {
        "id": "PXAPufZid-JU"
      },
      "execution_count": null,
      "outputs": []
    },
    {
      "cell_type": "markdown",
      "source": [
        "# Step 1: Download and extract the dataset"
      ],
      "metadata": {
        "id": "RWKDqmc7Ftwx"
      }
    },
    {
      "cell_type": "code",
      "source": [
        "!wget -O EmoSet-118K.zip \"https://www.dropbox.com/scl/fi/myue506itjfc06m7svdw6/EmoSet-118K.zip?dl=1&rlkey=7f3oyjkr6zyndf0gau7t140rv\"\n"
      ],
      "metadata": {
        "colab": {
          "base_uri": "https://localhost:8080/"
        },
        "id": "Ligk_oCSDAmm",
        "outputId": "46423ac6-c27d-484f-9106-89cd04027a28"
      },
      "execution_count": 3,
      "outputs": [
        {
          "output_type": "stream",
          "name": "stdout",
          "text": [
            "--2024-03-20 14:59:11--  https://www.dropbox.com/scl/fi/myue506itjfc06m7svdw6/EmoSet-118K.zip?dl=1&rlkey=7f3oyjkr6zyndf0gau7t140rv\n",
            "Resolving www.dropbox.com (www.dropbox.com)... 162.125.81.18, 2620:100:6031:18::a27d:5112\n",
            "Connecting to www.dropbox.com (www.dropbox.com)|162.125.81.18|:443... connected.\n",
            "HTTP request sent, awaiting response... 302 Found\n",
            "Location: https://uc63266babafe081a32018c9ce72.dl.dropboxusercontent.com/cd/0/inline/CPfA6g5GWkVXmWyUv6hjlGqSibUyyodWGB0UuYQlQYUGG9f5conzAJX2569mFyzUWmidqJs-ID8nUlH_6j1NLUGZgtDb_D-uz_OCMb3cA6Qhzwzq0tfEiT_vQ0N7jrIwc_9l8gDiasRND6UNMtzoMny4/file?dl=1# [following]\n",
            "--2024-03-20 14:59:12--  https://uc63266babafe081a32018c9ce72.dl.dropboxusercontent.com/cd/0/inline/CPfA6g5GWkVXmWyUv6hjlGqSibUyyodWGB0UuYQlQYUGG9f5conzAJX2569mFyzUWmidqJs-ID8nUlH_6j1NLUGZgtDb_D-uz_OCMb3cA6Qhzwzq0tfEiT_vQ0N7jrIwc_9l8gDiasRND6UNMtzoMny4/file?dl=1\n",
            "Resolving uc63266babafe081a32018c9ce72.dl.dropboxusercontent.com (uc63266babafe081a32018c9ce72.dl.dropboxusercontent.com)... 162.125.81.15, 2620:100:6031:15::a27d:510f\n",
            "Connecting to uc63266babafe081a32018c9ce72.dl.dropboxusercontent.com (uc63266babafe081a32018c9ce72.dl.dropboxusercontent.com)|162.125.81.15|:443... connected.\n",
            "HTTP request sent, awaiting response... 302 Found\n",
            "Location: /cd/0/inline2/CPf2gSnCRY7mLFGlDnyRuwWzOXGLhsJzdugBKCb_nQq6-8BKbq2_MNWQHdc2KCHydvZVl5j2omlqw4zKRV8yktr6utn_Gfck4iiWmOt5OyV26L5YRlEBEFgFBilgME-adDEJKzBVfeG3g-ybe3YG2qwemDASDYpFuy4j1K-p9imUnSOAT-5StkRmAxcNea0FoFZLletMTOlcB2LVgaMIAVB0r7Qad7dCKvh911Za40q8F9Bbo4w-mGKEgsmx8FfcheREh-fygHjTB-AeMNTOsiLcRCICbTV01ACv50tPLcrxpFQy4EVDiqBoseK0ETedCpn3IlW1B8yujKs6n_pfA_5NnZef_usuMFXvdgE6yhKgYLmJoPJRQODWdNwvoQJFz7k/file?dl=1 [following]\n",
            "--2024-03-20 14:59:13--  https://uc63266babafe081a32018c9ce72.dl.dropboxusercontent.com/cd/0/inline2/CPf2gSnCRY7mLFGlDnyRuwWzOXGLhsJzdugBKCb_nQq6-8BKbq2_MNWQHdc2KCHydvZVl5j2omlqw4zKRV8yktr6utn_Gfck4iiWmOt5OyV26L5YRlEBEFgFBilgME-adDEJKzBVfeG3g-ybe3YG2qwemDASDYpFuy4j1K-p9imUnSOAT-5StkRmAxcNea0FoFZLletMTOlcB2LVgaMIAVB0r7Qad7dCKvh911Za40q8F9Bbo4w-mGKEgsmx8FfcheREh-fygHjTB-AeMNTOsiLcRCICbTV01ACv50tPLcrxpFQy4EVDiqBoseK0ETedCpn3IlW1B8yujKs6n_pfA_5NnZef_usuMFXvdgE6yhKgYLmJoPJRQODWdNwvoQJFz7k/file?dl=1\n",
            "Reusing existing connection to uc63266babafe081a32018c9ce72.dl.dropboxusercontent.com:443.\n",
            "HTTP request sent, awaiting response... 200 OK\n",
            "Length: 11288914945 (11G) [application/binary]\n",
            "Saving to: ‘EmoSet-118K.zip’\n",
            "\n",
            "EmoSet-118K.zip     100%[===================>]  10.51G  17.6MB/s    in 10m 3s  \n",
            "\n",
            "2024-03-20 15:09:16 (17.8 MB/s) - ‘EmoSet-118K.zip’ saved [11288914945/11288914945]\n",
            "\n"
          ]
        }
      ]
    },
    {
      "cell_type": "code",
      "source": [
        "!unzip -q EmoSet-118K.zip -d /content/EmoSet-118K/"
      ],
      "metadata": {
        "id": "YBf4o0f4Deuz"
      },
      "execution_count": 4,
      "outputs": []
    },
    {
      "cell_type": "markdown",
      "source": [
        "# Step 2: Parse the JSON files to create a mapping for image paths and labels"
      ],
      "metadata": {
        "id": "xHGVt4cTFn_G"
      }
    },
    {
      "cell_type": "code",
      "source": [
        "import os\n",
        "import json\n",
        "import torch\n",
        "import torchvision.models as models\n",
        "from torchvision import transforms\n",
        "from torch.utils.data import Dataset, DataLoader\n",
        "from PIL import Image\n",
        "import torch.nn as nn\n",
        "\n",
        "base_path = '/content/EmoSet-118K'\n",
        "annotations_dir = os.path.join(base_path, 'annotation')\n",
        "images_dir = os.path.join(base_path, 'image')\n",
        "\n",
        "# Parse JSON annotations\n",
        "def parse_annotations(annotations_dir):\n",
        "    annotations = []\n",
        "    for emotion_dir_name in os.listdir(annotations_dir):\n",
        "        emotion_dir_path = os.path.join(annotations_dir, emotion_dir_name)\n",
        "        if os.path.isdir(emotion_dir_path):\n",
        "            for annotation_file in os.listdir(emotion_dir_path):\n",
        "                annotation_file_path = os.path.join(emotion_dir_path, annotation_file)\n",
        "                with open(annotation_file_path, 'r') as f:\n",
        "                    annotation_data = json.load(f)\n",
        "                    annotations.append(annotation_data)\n",
        "    return annotations\n",
        "\n",
        "annotations = parse_annotations(annotations_dir)\n",
        "\n",
        "# Verify the number of annotations loaded\n",
        "print(f\"Loaded {len(annotations)} annotations.\")\n",
        "\n",
        "# Extract unique emotions and create a mapping to indices\n",
        "unique_emotions = sorted({anno['emotion'] for anno in annotations})\n",
        "emotion_to_idx = {emotion: idx for idx, emotion in enumerate(unique_emotions)}\n",
        "print(f\"Unique emotions found: {list(emotion_to_idx.keys())}\")\n",
        "\n",
        "class EmoSetDataset(Dataset):\n",
        "    def __init__(self, annotations, images_dir, transform=None):\n",
        "        self.annotations = annotations\n",
        "        self.images_dir = images_dir\n",
        "        self.transform = transform\n",
        "\n",
        "    def __len__(self):\n",
        "        return len(self.annotations)\n",
        "\n",
        "    def __getitem__(self, idx):\n",
        "        annotation = self.annotations[idx]\n",
        "        image_path = os.path.join(self.images_dir, annotation['emotion'], f\"{annotation['image_id']}.jpg\")\n",
        "        image = Image.open(image_path).convert('RGB')\n",
        "        label = emotion_to_idx[annotation['emotion']]\n",
        "\n",
        "        if self.transform:\n",
        "            image = self.transform(image)\n",
        "\n",
        "        return image, label\n",
        "\n",
        "# Transformations\n",
        "transform = transforms.Compose([\n",
        "    transforms.Resize((224, 224)),\n",
        "    transforms.ToTensor(),\n",
        "    transforms.Normalize(mean=[0.485, 0.456, 0.406], std=[0.229, 0.224, 0.225]),\n",
        "])\n",
        "\n",
        "# Dataset and DataLoader\n",
        "dataset = EmoSetDataset(annotations, images_dir, transform=transform)\n",
        "data_loader = DataLoader(dataset, batch_size=32, shuffle=True)\n"
      ],
      "metadata": {
        "id": "qCP3iwIYFpSO",
        "colab": {
          "base_uri": "https://localhost:8080/"
        },
        "outputId": "51434212-5c8d-4374-ea3c-78a773e03947"
      },
      "execution_count": 39,
      "outputs": [
        {
          "output_type": "stream",
          "name": "stdout",
          "text": [
            "Loaded 118102 annotations.\n",
            "Unique emotions found: ['amusement', 'anger', 'awe', 'contentment', 'disgust', 'excitement', 'fear', 'sadness']\n"
          ]
        }
      ]
    },
    {
      "cell_type": "markdown",
      "source": [
        "# Step 3-4: Define the CNN model for emotion classification"
      ],
      "metadata": {
        "id": "PvcJqFUJGUpi"
      }
    },
    {
      "cell_type": "code",
      "source": [
        "from torchvision.models import efficientnet_b0, EfficientNet_B0_Weights\n",
        "from torch import nn, optim\n",
        "\n",
        "# Load pre-trained EfficientNet-B0 model\n",
        "weights = EfficientNet_B0_Weights.DEFAULT\n",
        "model = efficientnet_b0(weights=weights)\n",
        "\n",
        "# Replace the classifier to match the number of unique emotions\n",
        "num_ftrs = model.classifier[1].in_features\n",
        "model.classifier[1] = nn.Linear(num_ftrs, len(unique_emotions))\n",
        "\n",
        "# Setup device: Use GPU if available, else fall back to CPU\n",
        "device = torch.device('cuda' if torch.cuda.is_available() else 'cpu')\n",
        "print(f'Using device: {device}')\n",
        "\n",
        "# Move model to the appropriate device\n",
        "model = model.to(device)\n",
        "\n",
        "# Define the optimizer\n",
        "optimizer = optim.Adam(model.parameters(), lr=0.001)\n"
      ],
      "metadata": {
        "id": "NCMvgQsxGYEB",
        "colab": {
          "base_uri": "https://localhost:8080/"
        },
        "outputId": "4d3f1ec9-73f0-4c0b-f8be-c6748896c6cf"
      },
      "execution_count": 41,
      "outputs": [
        {
          "output_type": "stream",
          "name": "stdout",
          "text": [
            "Using device: cuda\n"
          ]
        }
      ]
    },
    {
      "cell_type": "markdown",
      "source": [
        "# Step 5: Train the model"
      ],
      "metadata": {
        "id": "LFJ809r3Gr7y"
      }
    },
    {
      "cell_type": "code",
      "source": [
        "!pip install tqdm"
      ],
      "metadata": {
        "colab": {
          "base_uri": "https://localhost:8080/"
        },
        "id": "EN3PKkLRk8KD",
        "outputId": "99ccc37a-09fc-4992-efff-08e159180ed4"
      },
      "execution_count": 9,
      "outputs": [
        {
          "output_type": "stream",
          "name": "stdout",
          "text": [
            "Requirement already satisfied: tqdm in /usr/local/lib/python3.10/dist-packages (4.66.2)\n"
          ]
        }
      ]
    },
    {
      "cell_type": "markdown",
      "source": [
        "##Introduce data augmentation in the training data loader"
      ],
      "metadata": {
        "id": "9z5iWA_jMFIo"
      }
    },
    {
      "cell_type": "code",
      "source": [
        "from torchvision import transforms\n",
        "\n",
        "# Data augmentation and normalization for training\n",
        "train_transforms = transforms.Compose([\n",
        "    transforms.RandomResizedCrop(224),\n",
        "    transforms.RandomHorizontalFlip(),\n",
        "    transforms.ToTensor(),\n",
        "    transforms.Normalize([0.485, 0.456, 0.406], [0.229, 0.224, 0.225])\n",
        "])\n",
        "\n",
        "# Update the dataset to use augmentation\n",
        "dataset = EmoSetDataset(annotations, images_dir, transform=train_transforms)\n",
        "data_loader = DataLoader(dataset, batch_size=32, shuffle=True)"
      ],
      "metadata": {
        "id": "Isy5nGnTGuif"
      },
      "execution_count": 42,
      "outputs": []
    },
    {
      "cell_type": "code",
      "source": [],
      "metadata": {
        "id": "dC__Rx_nMD-E"
      },
      "execution_count": null,
      "outputs": []
    },
    {
      "cell_type": "markdown",
      "source": [
        "##Adjust training loop for early stopping"
      ],
      "metadata": {
        "id": "BGCVCK0iMLY4"
      }
    },
    {
      "cell_type": "code",
      "source": [
        "from sklearn.model_selection import train_test_split\n",
        "from torch.utils.data import Subset\n",
        "from tqdm import tqdm\n",
        "\n",
        "# Assuming annotations is a list of dictionaries, split it into training and validation\n",
        "train_annos, val_annos = train_test_split(annotations, test_size=0.2, random_state=42)\n",
        "\n",
        "# Create datasets for training and validation\n",
        "train_dataset = EmoSetDataset(train_annos, images_dir, transform=train_transforms)\n",
        "val_dataset = EmoSetDataset(val_annos, images_dir, transform=transform)  # Use the original transform for validation\n",
        "\n",
        "# Data loaders for training and validation\n",
        "train_loader = DataLoader(train_dataset, batch_size=32, shuffle=True)\n",
        "val_loader = DataLoader(val_dataset, batch_size=32, shuffle=False)\n",
        "\n",
        "# Define early stopping parameters\n",
        "early_stopping_patience = 5\n",
        "early_stopping_counter = 0\n",
        "best_val_loss = float('inf')\n",
        "\n",
        "for epoch in range(num_epochs):\n",
        "    model.train()\n",
        "    total_train_loss = 0\n",
        "\n",
        "    for inputs, labels in tqdm(train_loader, desc=f'Training Epoch {epoch+1}'):\n",
        "        inputs, labels = inputs.to(device), labels.to(device)\n",
        "        optimizer.zero_grad()\n",
        "        outputs = model(inputs)\n",
        "        loss = criterion(outputs, labels)\n",
        "        loss.backward()\n",
        "        optimizer.step()\n",
        "        total_train_loss += loss.item()\n",
        "\n",
        "    # Validation phase\n",
        "    model.eval()\n",
        "    total_val_loss = 0\n",
        "\n",
        "    with torch.no_grad():\n",
        "        for inputs, labels in tqdm(val_loader, desc='Validation'):\n",
        "            inputs, labels = inputs.to(device), labels.to(device)\n",
        "            outputs = model(inputs)\n",
        "            loss = criterion(outputs, labels)\n",
        "            total_val_loss += loss.item()\n",
        "\n",
        "    avg_train_loss = total_train_loss / len(train_loader)\n",
        "    avg_val_loss = total_val_loss / len(val_loader)\n",
        "\n",
        "    print(f'Epoch {epoch+1}, Train Loss: {avg_train_loss:.4f}, Val Loss: {avg_val_loss:.4f}')\n",
        "\n",
        "    # Early stopping logic\n",
        "    if avg_val_loss < best_val_loss:\n",
        "        best_val_loss = avg_val_loss\n",
        "        early_stopping_counter = 0\n",
        "        # Save the best model\n",
        "        torch.save(model.state_dict(), '/content/drive/My Drive/EmoGen/best_model.pth')\n",
        "    else:\n",
        "        early_stopping_counter += 1\n",
        "        if early_stopping_counter >= early_stopping_patience:\n",
        "            print('Early stopping triggered.')\n",
        "            break"
      ],
      "metadata": {
        "colab": {
          "base_uri": "https://localhost:8080/"
        },
        "id": "Hf_wSLx_MWPF",
        "outputId": "87de1338-8f5c-4420-dc06-3454559cd701"
      },
      "execution_count": 43,
      "outputs": [
        {
          "output_type": "stream",
          "name": "stderr",
          "text": [
            "Training Epoch 1: 100%|██████████| 2953/2953 [13:48<00:00,  3.56it/s]\n",
            "Validation: 100%|██████████| 739/739 [03:31<00:00,  3.50it/s]\n"
          ]
        },
        {
          "output_type": "stream",
          "name": "stdout",
          "text": [
            "Epoch 1, Train Loss: 1.2117, Val Loss: 1.0476\n"
          ]
        },
        {
          "output_type": "stream",
          "name": "stderr",
          "text": [
            "Training Epoch 2: 100%|██████████| 2953/2953 [13:46<00:00,  3.57it/s]\n",
            "Validation: 100%|██████████| 739/739 [03:29<00:00,  3.53it/s]\n"
          ]
        },
        {
          "output_type": "stream",
          "name": "stdout",
          "text": [
            "Epoch 2, Train Loss: 1.0872, Val Loss: 0.9204\n"
          ]
        },
        {
          "output_type": "stream",
          "name": "stderr",
          "text": [
            "Training Epoch 3: 100%|██████████| 2953/2953 [13:41<00:00,  3.59it/s]\n",
            "Validation: 100%|██████████| 739/739 [03:27<00:00,  3.56it/s]\n"
          ]
        },
        {
          "output_type": "stream",
          "name": "stdout",
          "text": [
            "Epoch 3, Train Loss: 1.0314, Val Loss: 0.9147\n"
          ]
        },
        {
          "output_type": "stream",
          "name": "stderr",
          "text": [
            "Training Epoch 4: 100%|██████████| 2953/2953 [13:37<00:00,  3.61it/s]\n",
            "Validation: 100%|██████████| 739/739 [03:30<00:00,  3.50it/s]\n"
          ]
        },
        {
          "output_type": "stream",
          "name": "stdout",
          "text": [
            "Epoch 4, Train Loss: 0.9946, Val Loss: 0.8817\n"
          ]
        },
        {
          "output_type": "stream",
          "name": "stderr",
          "text": [
            "Training Epoch 5: 100%|██████████| 2953/2953 [13:34<00:00,  3.63it/s]\n",
            "Validation: 100%|██████████| 739/739 [03:27<00:00,  3.57it/s]\n"
          ]
        },
        {
          "output_type": "stream",
          "name": "stdout",
          "text": [
            "Epoch 5, Train Loss: 0.9666, Val Loss: 0.8513\n"
          ]
        }
      ]
    },
    {
      "cell_type": "markdown",
      "source": [
        "## Step 5.5: Test data"
      ],
      "metadata": {
        "id": "UTwkiI8t3gA_"
      }
    },
    {
      "cell_type": "code",
      "source": [
        "import os\n",
        "import shutil\n",
        "from random import sample\n",
        "\n",
        "# Base directory for dataset images\n",
        "base_path = '/content/EmoSet-118K/image'\n",
        "# Directory for test images\n",
        "test_dir = '/content/test'\n",
        "\n",
        "# Create test directory if it doesn't exist\n",
        "if not os.path.exists(test_dir):\n",
        "    os.makedirs(test_dir)\n",
        "    print(f\"Created test directory: {test_dir}\")\n",
        "else:\n",
        "    print(f\"Test directory already exists: {test_dir}\")\n",
        "\n",
        "# Get all images from each emotion subdirectory\n",
        "all_images = []\n",
        "emotion_subdirs = [d for d in os.listdir(base_path) if os.path.isdir(os.path.join(base_path, d))]\n",
        "\n",
        "for emotion_subdir in emotion_subdirs:\n",
        "    emotion_path = os.path.join(base_path, emotion_subdir)\n",
        "    images = [os.path.join(emotion_path, img) for img in os.listdir(emotion_path) if img.lower().endswith(('.png', '.jpg', '.jpeg'))]\n",
        "    all_images.extend(images)\n",
        "\n",
        "# Sample 100 images or the total number of images if less than 100\n",
        "num_images_to_select = min(100, len(all_images))\n",
        "selected_images = sample(all_images, num_images_to_select)\n",
        "\n",
        "# Copy selected images to the test directory, maintaining the emotion subdirectory structure\n",
        "for img_path in selected_images:\n",
        "    emotion_subdir = os.path.basename(os.path.dirname(img_path))\n",
        "    destination_subdir = os.path.join(test_dir, emotion_subdir)\n",
        "    if not os.path.exists(destination_subdir):\n",
        "        os.makedirs(destination_subdir)\n",
        "    shutil.copy(img_path, destination_subdir)\n",
        "\n",
        "print(f\"Completed preparing the test set with {num_images_to_select} images in: {test_dir}\")\n"
      ],
      "metadata": {
        "colab": {
          "base_uri": "https://localhost:8080/"
        },
        "id": "w7ei7LN33j7J",
        "outputId": "18645c9a-f446-471c-d448-b91f2300f210"
      },
      "execution_count": 44,
      "outputs": [
        {
          "output_type": "stream",
          "name": "stdout",
          "text": [
            "Test directory already exists: /content/test\n",
            "Completed preparing the test set with 100 images in: /content/test\n"
          ]
        }
      ]
    },
    {
      "cell_type": "markdown",
      "source": [
        "# Step 6: Evaluate the model"
      ],
      "metadata": {
        "id": "M5r-Sv1vGxdp"
      }
    },
    {
      "cell_type": "code",
      "source": [
        "from torchvision import transforms\n",
        "from torch.utils.data import DataLoader\n",
        "from tqdm import tqdm\n",
        "\n",
        "# Assuming the EmoSetDataset class and emotion_to_idx have been defined in earlier steps\n",
        "# Define the transformation applied to the test images\n",
        "transform = transforms.Compose([\n",
        "    transforms.Resize((224, 224)),\n",
        "    transforms.ToTensor(),\n",
        "    transforms.Normalize(mean=[0.485, 0.456, 0.406], std=[0.229, 0.224, 0.225]),\n",
        "])\n",
        "\n",
        "# Prepare the test dataset\n",
        "test_annotations = [{\n",
        "    'emotion': os.path.basename(os.path.dirname(img_path)),\n",
        "    'image_id': os.path.splitext(os.path.basename(img_path))[0]\n",
        "} for img_path in selected_images]\n",
        "\n",
        "# Initialize the test dataset with the test_dir as the images_dir\n",
        "test_dataset = EmoSetDataset(test_annotations, images_dir=test_dir, transform=transform)\n",
        "\n",
        "# Initialize the DataLoader for the test dataset\n",
        "test_loader = DataLoader(test_dataset, batch_size=32, shuffle=False)\n",
        "\n",
        "# Evaluate the model\n",
        "device = torch.device('cuda' if torch.cuda.is_available() else 'cpu')\n",
        "model.to(device)\n",
        "model.eval()\n",
        "\n",
        "running_corrects = 0\n",
        "total_samples = 0\n",
        "\n",
        "for inputs, labels in tqdm(test_loader, desc=\"Evaluating\"):\n",
        "    inputs, labels = inputs.to(device), labels.to(device)\n",
        "    with torch.no_grad():\n",
        "        outputs = model(inputs)\n",
        "        _, preds = torch.max(outputs, 1)\n",
        "        running_corrects += torch.sum(preds == labels).item()\n",
        "    total_samples += labels.size(0)\n",
        "\n",
        "test_acc = running_corrects / total_samples\n",
        "print(f\"Test Accuracy: {test_acc:.4f}\")"
      ],
      "metadata": {
        "id": "TX80GsE_GzvJ",
        "colab": {
          "base_uri": "https://localhost:8080/"
        },
        "outputId": "63a6180f-d8f6-4f0d-c0c0-7b63668c204c"
      },
      "execution_count": 45,
      "outputs": [
        {
          "output_type": "stream",
          "name": "stderr",
          "text": [
            "Evaluating: 100%|██████████| 4/4 [00:01<00:00,  3.93it/s]"
          ]
        },
        {
          "output_type": "stream",
          "name": "stdout",
          "text": [
            "Test Accuracy: 0.7100\n"
          ]
        },
        {
          "output_type": "stream",
          "name": "stderr",
          "text": [
            "\n"
          ]
        }
      ]
    },
    {
      "cell_type": "code",
      "source": [
        "print(f\"Number of test annotations: {len(test_annotations)}\")\n",
        "print(\"Sample test annotations:\", test_annotations[:3])"
      ],
      "metadata": {
        "colab": {
          "base_uri": "https://localhost:8080/"
        },
        "id": "BYE9SGzc2OkU",
        "outputId": "88bba28c-25e4-4d88-8f0c-6d02414c7932"
      },
      "execution_count": 46,
      "outputs": [
        {
          "output_type": "stream",
          "name": "stdout",
          "text": [
            "Number of test annotations: 100\n",
            "Sample test annotations: [{'emotion': 'sadness', 'image_id': 'sadness_00591'}, {'emotion': 'excitement', 'image_id': 'excitement_07717'}, {'emotion': 'excitement', 'image_id': 'excitement_08575'}]\n"
          ]
        }
      ]
    },
    {
      "cell_type": "markdown",
      "source": [
        "# Step 7: Predict emotion for new images"
      ],
      "metadata": {
        "id": "2cfVh3OnIn2V"
      }
    },
    {
      "cell_type": "code",
      "source": [
        "import torch\n",
        "from PIL import Image\n",
        "from torchvision import transforms\n",
        "\n",
        "# Assuming 'model' is your trained model and 'emotion_to_idx' is your mapping from emotions to indices\n",
        "idx_to_emotion = {v: k for k, v in emotion_to_idx.items()}  # Create a reverse mapping from indices to emotions\n",
        "\n",
        "# Function to predict emotion from an image path\n",
        "def predict_emotion(image_path, model, transform):\n",
        "    model.eval()  # Set model to evaluation mode\n",
        "    with torch.no_grad():  # No need to track gradients\n",
        "        # Load and preprocess the image\n",
        "        image = Image.open(image_path).convert('RGB')\n",
        "        image = transform(image).unsqueeze(0)  # Add batch dimension\n",
        "\n",
        "        # Move the image tensor to the same device as the model\n",
        "        image = image.to(next(model.parameters()).device)\n",
        "\n",
        "        # Perform inference\n",
        "        outputs = model(image)\n",
        "        _, predicted_idx = torch.max(outputs, 1)\n",
        "\n",
        "        # Retrieve the predicted emotion\n",
        "        predicted_emotion = idx_to_emotion[predicted_idx.item()]\n",
        "\n",
        "        return predicted_emotion\n",
        "\n",
        "# Define the same transformations used during training/validation\n",
        "transform = transforms.Compose([\n",
        "    transforms.Resize((224, 224)),\n",
        "    transforms.ToTensor(),\n",
        "    transforms.Normalize(mean=[0.485, 0.456, 0.406], std=[0.229, 0.224, 0.225]),\n",
        "])\n",
        "\n",
        "image_path = '/content/Images-input/angry1.jpeg'  # Replace with your image path\n",
        "predicted_emotion = predict_emotion(image_path, model, transform)\n",
        "print(f\"Predicted emotion: {predicted_emotion}\")"
      ],
      "metadata": {
        "colab": {
          "base_uri": "https://localhost:8080/"
        },
        "id": "q3H87g7mIupy",
        "outputId": "d68c906a-210d-4b20-efeb-edc72b4e11b3"
      },
      "execution_count": 49,
      "outputs": [
        {
          "output_type": "stream",
          "name": "stdout",
          "text": [
            "Predicted emotion: anger\n"
          ]
        }
      ]
    }
  ]
}