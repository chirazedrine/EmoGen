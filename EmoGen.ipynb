{
  "nbformat": 4,
  "nbformat_minor": 0,
  "metadata": {
    "colab": {
      "provenance": [],
      "gpuType": "A100",
      "machine_shape": "hm",
      "authorship_tag": "ABX9TyO7T+5rodq4HrkBbIYaTOgn",
      "include_colab_link": true
    },
    "kernelspec": {
      "name": "python3",
      "display_name": "Python 3"
    },
    "language_info": {
      "name": "python"
    },
    "accelerator": "GPU"
  },
  "cells": [
    {
      "cell_type": "markdown",
      "metadata": {
        "id": "view-in-github",
        "colab_type": "text"
      },
      "source": [
        "<a href=\"https://colab.research.google.com/github/chirazedrine/EmoGen/blob/main/EmoGen.ipynb\" target=\"_parent\"><img src=\"https://colab.research.google.com/assets/colab-badge.svg\" alt=\"Open In Colab\"/></a>"
      ]
    },
    {
      "cell_type": "markdown",
      "source": [
        "# Step 0: Dowload dependencies"
      ],
      "metadata": {
        "id": "J72su8lnFrWS"
      }
    },
    {
      "cell_type": "code",
      "execution_count": null,
      "metadata": {
        "id": "6hht6ExRCr15"
      },
      "outputs": [],
      "source": [
        "!pip install torch torchvision"
      ]
    },
    {
      "cell_type": "markdown",
      "source": [
        "# Step 1: Download and extract the dataset"
      ],
      "metadata": {
        "id": "RWKDqmc7Ftwx"
      }
    },
    {
      "cell_type": "code",
      "source": [
        "!wget -O EmoSet-118K.zip \"https://www.dropbox.com/scl/fi/myue506itjfc06m7svdw6/EmoSet-118K.zip?dl=1&rlkey=7f3oyjkr6zyndf0gau7t140rv\"\n"
      ],
      "metadata": {
        "colab": {
          "base_uri": "https://localhost:8080/"
        },
        "id": "Ligk_oCSDAmm",
        "outputId": "46423ac6-c27d-484f-9106-89cd04027a28"
      },
      "execution_count": 3,
      "outputs": [
        {
          "output_type": "stream",
          "name": "stdout",
          "text": [
            "--2024-03-20 14:59:11--  https://www.dropbox.com/scl/fi/myue506itjfc06m7svdw6/EmoSet-118K.zip?dl=1&rlkey=7f3oyjkr6zyndf0gau7t140rv\n",
            "Resolving www.dropbox.com (www.dropbox.com)... 162.125.81.18, 2620:100:6031:18::a27d:5112\n",
            "Connecting to www.dropbox.com (www.dropbox.com)|162.125.81.18|:443... connected.\n",
            "HTTP request sent, awaiting response... 302 Found\n",
            "Location: https://uc63266babafe081a32018c9ce72.dl.dropboxusercontent.com/cd/0/inline/CPfA6g5GWkVXmWyUv6hjlGqSibUyyodWGB0UuYQlQYUGG9f5conzAJX2569mFyzUWmidqJs-ID8nUlH_6j1NLUGZgtDb_D-uz_OCMb3cA6Qhzwzq0tfEiT_vQ0N7jrIwc_9l8gDiasRND6UNMtzoMny4/file?dl=1# [following]\n",
            "--2024-03-20 14:59:12--  https://uc63266babafe081a32018c9ce72.dl.dropboxusercontent.com/cd/0/inline/CPfA6g5GWkVXmWyUv6hjlGqSibUyyodWGB0UuYQlQYUGG9f5conzAJX2569mFyzUWmidqJs-ID8nUlH_6j1NLUGZgtDb_D-uz_OCMb3cA6Qhzwzq0tfEiT_vQ0N7jrIwc_9l8gDiasRND6UNMtzoMny4/file?dl=1\n",
            "Resolving uc63266babafe081a32018c9ce72.dl.dropboxusercontent.com (uc63266babafe081a32018c9ce72.dl.dropboxusercontent.com)... 162.125.81.15, 2620:100:6031:15::a27d:510f\n",
            "Connecting to uc63266babafe081a32018c9ce72.dl.dropboxusercontent.com (uc63266babafe081a32018c9ce72.dl.dropboxusercontent.com)|162.125.81.15|:443... connected.\n",
            "HTTP request sent, awaiting response... 302 Found\n",
            "Location: /cd/0/inline2/CPf2gSnCRY7mLFGlDnyRuwWzOXGLhsJzdugBKCb_nQq6-8BKbq2_MNWQHdc2KCHydvZVl5j2omlqw4zKRV8yktr6utn_Gfck4iiWmOt5OyV26L5YRlEBEFgFBilgME-adDEJKzBVfeG3g-ybe3YG2qwemDASDYpFuy4j1K-p9imUnSOAT-5StkRmAxcNea0FoFZLletMTOlcB2LVgaMIAVB0r7Qad7dCKvh911Za40q8F9Bbo4w-mGKEgsmx8FfcheREh-fygHjTB-AeMNTOsiLcRCICbTV01ACv50tPLcrxpFQy4EVDiqBoseK0ETedCpn3IlW1B8yujKs6n_pfA_5NnZef_usuMFXvdgE6yhKgYLmJoPJRQODWdNwvoQJFz7k/file?dl=1 [following]\n",
            "--2024-03-20 14:59:13--  https://uc63266babafe081a32018c9ce72.dl.dropboxusercontent.com/cd/0/inline2/CPf2gSnCRY7mLFGlDnyRuwWzOXGLhsJzdugBKCb_nQq6-8BKbq2_MNWQHdc2KCHydvZVl5j2omlqw4zKRV8yktr6utn_Gfck4iiWmOt5OyV26L5YRlEBEFgFBilgME-adDEJKzBVfeG3g-ybe3YG2qwemDASDYpFuy4j1K-p9imUnSOAT-5StkRmAxcNea0FoFZLletMTOlcB2LVgaMIAVB0r7Qad7dCKvh911Za40q8F9Bbo4w-mGKEgsmx8FfcheREh-fygHjTB-AeMNTOsiLcRCICbTV01ACv50tPLcrxpFQy4EVDiqBoseK0ETedCpn3IlW1B8yujKs6n_pfA_5NnZef_usuMFXvdgE6yhKgYLmJoPJRQODWdNwvoQJFz7k/file?dl=1\n",
            "Reusing existing connection to uc63266babafe081a32018c9ce72.dl.dropboxusercontent.com:443.\n",
            "HTTP request sent, awaiting response... 200 OK\n",
            "Length: 11288914945 (11G) [application/binary]\n",
            "Saving to: ‘EmoSet-118K.zip’\n",
            "\n",
            "EmoSet-118K.zip     100%[===================>]  10.51G  17.6MB/s    in 10m 3s  \n",
            "\n",
            "2024-03-20 15:09:16 (17.8 MB/s) - ‘EmoSet-118K.zip’ saved [11288914945/11288914945]\n",
            "\n"
          ]
        }
      ]
    },
    {
      "cell_type": "code",
      "source": [
        "!unzip -q EmoSet-118K.zip -d /content/EmoSet-118K/"
      ],
      "metadata": {
        "id": "YBf4o0f4Deuz"
      },
      "execution_count": 4,
      "outputs": []
    },
    {
      "cell_type": "markdown",
      "source": [
        "# Step 2: Parse the JSON files to create a mapping for image paths and labels"
      ],
      "metadata": {
        "id": "xHGVt4cTFn_G"
      }
    },
    {
      "cell_type": "code",
      "source": [
        "import os\n",
        "import json\n",
        "import torch\n",
        "import torchvision.models as models\n",
        "from torchvision import transforms\n",
        "from torch.utils.data import Dataset, DataLoader\n",
        "from PIL import Image\n",
        "import torch.nn as nn\n",
        "\n",
        "base_path = '/content/EmoSet-118K'\n",
        "annotations_dir = os.path.join(base_path, 'annotation')\n",
        "images_dir = os.path.join(base_path, 'image')\n",
        "\n",
        "# Parse JSON annotations\n",
        "def parse_annotations(annotations_dir):\n",
        "    annotations = []\n",
        "    for emotion_dir_name in os.listdir(annotations_dir):\n",
        "        emotion_dir_path = os.path.join(annotations_dir, emotion_dir_name)\n",
        "        if os.path.isdir(emotion_dir_path):\n",
        "            for annotation_file in os.listdir(emotion_dir_path):\n",
        "                annotation_file_path = os.path.join(emotion_dir_path, annotation_file)\n",
        "                with open(annotation_file_path, 'r') as f:\n",
        "                    annotation_data = json.load(f)\n",
        "                    annotations.append(annotation_data)\n",
        "    return annotations\n",
        "\n",
        "annotations = parse_annotations(annotations_dir)\n",
        "\n",
        "# Verify the number of annotations loaded\n",
        "print(f\"Loaded {len(annotations)} annotations.\")\n",
        "\n",
        "# Extract unique emotions and create a mapping to indices\n",
        "unique_emotions = sorted({anno['emotion'] for anno in annotations})\n",
        "emotion_to_idx = {emotion: idx for idx, emotion in enumerate(unique_emotions)}\n",
        "print(f\"Unique emotions found: {list(emotion_to_idx.keys())}\")\n",
        "\n",
        "class EmoSetDataset(Dataset):\n",
        "    def __init__(self, annotations, images_dir, transform=None):\n",
        "        self.annotations = annotations\n",
        "        self.images_dir = images_dir\n",
        "        self.transform = transform\n",
        "\n",
        "    def __len__(self):\n",
        "        return len(self.annotations)\n",
        "\n",
        "    def __getitem__(self, idx):\n",
        "        annotation = self.annotations[idx]\n",
        "        image_path = os.path.join(self.images_dir, annotation['emotion'], f\"{annotation['image_id']}.jpg\")\n",
        "        image = Image.open(image_path).convert('RGB')\n",
        "        label = emotion_to_idx[annotation['emotion']]\n",
        "\n",
        "        if self.transform:\n",
        "            image = self.transform(image)\n",
        "\n",
        "        return image, label\n",
        "\n",
        "# Transformations\n",
        "transform = transforms.Compose([\n",
        "    transforms.Resize((224, 224)),\n",
        "    transforms.ToTensor(),\n",
        "    transforms.Normalize(mean=[0.485, 0.456, 0.406], std=[0.229, 0.224, 0.225]),\n",
        "])\n",
        "\n",
        "# Dataset and DataLoader\n",
        "dataset = EmoSetDataset(annotations, images_dir, transform=transform)\n",
        "data_loader = DataLoader(dataset, batch_size=32, shuffle=True)\n"
      ],
      "metadata": {
        "id": "qCP3iwIYFpSO",
        "colab": {
          "base_uri": "https://localhost:8080/"
        },
        "outputId": "5c67ac47-24d1-47a8-e2bb-c72e1081722c"
      },
      "execution_count": 5,
      "outputs": [
        {
          "output_type": "stream",
          "name": "stdout",
          "text": [
            "Loaded 118102 annotations.\n",
            "Unique emotions found: ['amusement', 'anger', 'awe', 'contentment', 'disgust', 'excitement', 'fear', 'sadness']\n"
          ]
        }
      ]
    },
    {
      "cell_type": "markdown",
      "source": [
        "# Step 3: Define the CNN model for emotion classification"
      ],
      "metadata": {
        "id": "PvcJqFUJGUpi"
      }
    },
    {
      "cell_type": "code",
      "source": [
        "import torch\n",
        "import torchvision.models as models\n",
        "from torchvision.models import ResNet50_Weights\n",
        "\n",
        "# Load pre-trained ResNet-50 model\n",
        "weights = ResNet50_Weights.DEFAULT\n",
        "model = models.resnet50(weights=weights)\n",
        "\n",
        "# Modify final layer to match the number of unique emotions\n",
        "num_ftrs = model.fc.in_features\n",
        "model.fc = torch.nn.Linear(num_ftrs, len(unique_emotions))"
      ],
      "metadata": {
        "id": "NCMvgQsxGYEB",
        "colab": {
          "base_uri": "https://localhost:8080/"
        },
        "outputId": "1ac0329e-15c9-4fa0-e0e1-86134ff6daa1"
      },
      "execution_count": 7,
      "outputs": [
        {
          "output_type": "stream",
          "name": "stderr",
          "text": [
            "Downloading: \"https://download.pytorch.org/models/resnet50-11ad3fa6.pth\" to /root/.cache/torch/hub/checkpoints/resnet50-11ad3fa6.pth\n",
            "100%|██████████| 97.8M/97.8M [00:01<00:00, 73.8MB/s]\n"
          ]
        }
      ]
    },
    {
      "cell_type": "markdown",
      "source": [
        "# Step 4: Define loss function and optimizer"
      ],
      "metadata": {
        "id": "0Yec5PhjGlCv"
      }
    },
    {
      "cell_type": "code",
      "source": [
        "criterion = nn.CrossEntropyLoss()\n",
        "optimizer = torch.optim.Adam(model.parameters(), lr=0.001)\n",
        "\n",
        "# Check if the data loader can fetch data\n",
        "for images, labels in data_loader:\n",
        "    print(f\"Fetched {images.shape[0]} samples.\")\n",
        "    break  # Only fetch one batch for checking\n"
      ],
      "metadata": {
        "colab": {
          "base_uri": "https://localhost:8080/"
        },
        "id": "Fe8qlneNGnVx",
        "outputId": "3e2c46b9-e09e-4828-bb65-b2664f1c4ad8"
      },
      "execution_count": 8,
      "outputs": [
        {
          "output_type": "stream",
          "name": "stdout",
          "text": [
            "Fetched 32 samples.\n"
          ]
        }
      ]
    },
    {
      "cell_type": "markdown",
      "source": [
        "# Step 5: Train the model"
      ],
      "metadata": {
        "id": "LFJ809r3Gr7y"
      }
    },
    {
      "cell_type": "code",
      "source": [
        "!pip install tqdm"
      ],
      "metadata": {
        "colab": {
          "base_uri": "https://localhost:8080/"
        },
        "id": "EN3PKkLRk8KD",
        "outputId": "99ccc37a-09fc-4992-efff-08e159180ed4"
      },
      "execution_count": 9,
      "outputs": [
        {
          "output_type": "stream",
          "name": "stdout",
          "text": [
            "Requirement already satisfied: tqdm in /usr/local/lib/python3.10/dist-packages (4.66.2)\n"
          ]
        }
      ]
    },
    {
      "cell_type": "code",
      "source": [
        "import torch\n",
        "from tqdm import tqdm\n",
        "\n",
        "# Setup device: Use GPU if available, else fall back to CPU\n",
        "device = torch.device('cuda' if torch.cuda.is_available() else 'cpu')\n",
        "print(f'Using device: {device}')\n",
        "\n",
        "model = model.to(device)\n",
        "\n",
        "num_epochs = 5\n",
        "\n",
        "# Start the training loop\n",
        "for epoch in range(num_epochs):\n",
        "    model.train()  # Set the model to training mode\n",
        "    running_loss = 0.0\n",
        "    correct_predictions = 0\n",
        "    total_predictions = 0\n",
        "\n",
        "    # Wrap your data loader with tqdm for a progress bar\n",
        "    data_loader_tqdm = tqdm(data_loader, desc=f'Epoch {epoch+1}/{num_epochs}', leave=True)\n",
        "\n",
        "    for inputs, labels in data_loader_tqdm:\n",
        "        # Move inputs and labels to the correct device\n",
        "        inputs, labels = inputs.to(device), labels.to(device)\n",
        "\n",
        "        # Zero the parameter gradients\n",
        "        optimizer.zero_grad()\n",
        "\n",
        "        # Forward pass, backward pass, and optimize\n",
        "        outputs = model(inputs)\n",
        "        loss = criterion(outputs, labels)\n",
        "        loss.backward()\n",
        "        optimizer.step()\n",
        "\n",
        "        # Calculate and accumulate loss and accuracy\n",
        "        running_loss += loss.item() * inputs.size(0)\n",
        "        _, preds = torch.max(outputs, 1)\n",
        "        correct_predictions += torch.sum(preds == labels.data)\n",
        "        total_predictions += labels.size(0)\n",
        "\n",
        "        # Update the progress bar with the current loss and accuracy\n",
        "        data_loader_tqdm.set_description(f'Epoch {epoch+1}/{num_epochs} Loss: {running_loss/total_predictions:.4f} Acc: {correct_predictions.double()/total_predictions:.4f}')\n",
        "\n",
        "    # Log the metrics for the epoch\n",
        "    print(f'Finished Epoch {epoch+1}/{num_epochs}, Loss: {running_loss/total_predictions:.4f}, Accuracy: {correct_predictions.double()/total_predictions:.4f}')\n",
        "\n",
        "print('Finished Training')"
      ],
      "metadata": {
        "id": "Isy5nGnTGuif",
        "colab": {
          "base_uri": "https://localhost:8080/"
        },
        "outputId": "1bda4c66-0930-4466-dd86-9197e4688bf5"
      },
      "execution_count": null,
      "outputs": [
        {
          "output_type": "stream",
          "name": "stdout",
          "text": [
            "Using device: cuda\n"
          ]
        },
        {
          "output_type": "stream",
          "name": "stderr",
          "text": [
            "Epoch 1/5 Loss: 1.2483 Acc: 0.5477:  46%|████▌     | 1693/3691 [09:01<10:50,  3.07it/s]"
          ]
        }
      ]
    },
    {
      "cell_type": "markdown",
      "source": [
        "# Step 6: Evaluate the model"
      ],
      "metadata": {
        "id": "M5r-Sv1vGxdp"
      }
    },
    {
      "cell_type": "code",
      "source": [
        "import torch\n",
        "model_path = '/content/drive/My Drive/emo_model.pth'\n",
        "torch.save(model.state_dict(), model_path)\n",
        "\n",
        "# Reload the model weights\n",
        "model.load_state_dict(torch.load(model_path))\n",
        "\n",
        "# Evaluate on the test set\n",
        "test_annotations = [anno for anno in annotations.values() if anno['split'] == 'test']\n",
        "test_dataset = EmoSetDataset(test_annotations, images_dir, transform=transform)\n",
        "test_loader = DataLoader(test_dataset, batch_size=32, shuffle=False)\n",
        "\n",
        "model.eval()\n",
        "running_corrects = 0\n",
        "\n",
        "for inputs, labels in test_loader:\n",
        "    outputs = model(inputs)\n",
        "    _, preds = torch.max(outputs, 1)\n",
        "    running_corrects += torch.sum(preds == labels.data)\n",
        "\n",
        "test_acc = running_corrects.double() / len(test_loader.dataset)\n",
        "print(f'Test Accuracy: {test_acc:.4f}')"
      ],
      "metadata": {
        "id": "TX80GsE_GzvJ",
        "colab": {
          "base_uri": "https://localhost:8080/",
          "height": 211
        },
        "outputId": "ceabd48d-d996-4351-86e7-4c6f6326e49c"
      },
      "execution_count": null,
      "outputs": [
        {
          "output_type": "error",
          "ename": "NameError",
          "evalue": "name 'model' is not defined",
          "traceback": [
            "\u001b[0;31m---------------------------------------------------------------------------\u001b[0m",
            "\u001b[0;31mNameError\u001b[0m                                 Traceback (most recent call last)",
            "\u001b[0;32m<ipython-input-2-55e9ac1135c4>\u001b[0m in \u001b[0;36m<cell line: 3>\u001b[0;34m()\u001b[0m\n\u001b[1;32m      1\u001b[0m \u001b[0;32mimport\u001b[0m \u001b[0mtorch\u001b[0m\u001b[0;34m\u001b[0m\u001b[0;34m\u001b[0m\u001b[0m\n\u001b[1;32m      2\u001b[0m \u001b[0mmodel_path\u001b[0m \u001b[0;34m=\u001b[0m \u001b[0;34m'/content/drive/My Drive/emo_model.pth'\u001b[0m\u001b[0;34m\u001b[0m\u001b[0;34m\u001b[0m\u001b[0m\n\u001b[0;32m----> 3\u001b[0;31m \u001b[0mtorch\u001b[0m\u001b[0;34m.\u001b[0m\u001b[0msave\u001b[0m\u001b[0;34m(\u001b[0m\u001b[0mmodel\u001b[0m\u001b[0;34m.\u001b[0m\u001b[0mstate_dict\u001b[0m\u001b[0;34m(\u001b[0m\u001b[0;34m)\u001b[0m\u001b[0;34m,\u001b[0m \u001b[0mmodel_path\u001b[0m\u001b[0;34m)\u001b[0m\u001b[0;34m\u001b[0m\u001b[0;34m\u001b[0m\u001b[0m\n\u001b[0m\u001b[1;32m      4\u001b[0m \u001b[0;34m\u001b[0m\u001b[0m\n\u001b[1;32m      5\u001b[0m \u001b[0;31m# Reload the model weights\u001b[0m\u001b[0;34m\u001b[0m\u001b[0;34m\u001b[0m\u001b[0m\n",
            "\u001b[0;31mNameError\u001b[0m: name 'model' is not defined"
          ]
        }
      ]
    }
  ]
}