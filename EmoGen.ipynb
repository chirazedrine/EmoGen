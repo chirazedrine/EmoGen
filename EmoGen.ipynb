{
  "nbformat": 4,
  "nbformat_minor": 0,
  "metadata": {
    "colab": {
      "provenance": [],
      "gpuType": "A100",
      "machine_shape": "hm",
      "authorship_tag": "ABX9TyNf4G/lFhls75MW69AinGOC",
      "include_colab_link": true
    },
    "kernelspec": {
      "name": "python3",
      "display_name": "Python 3"
    },
    "language_info": {
      "name": "python"
    },
    "accelerator": "GPU"
  },
  "cells": [
    {
      "cell_type": "markdown",
      "metadata": {
        "id": "view-in-github",
        "colab_type": "text"
      },
      "source": [
        "<a href=\"https://colab.research.google.com/github/chirazedrine/EmoGen/blob/main/EmoGen.ipynb\" target=\"_parent\"><img src=\"https://colab.research.google.com/assets/colab-badge.svg\" alt=\"Open In Colab\"/></a>"
      ]
    },
    {
      "cell_type": "markdown",
      "source": [
        "# Step 0: Dowload dependencies"
      ],
      "metadata": {
        "id": "J72su8lnFrWS"
      }
    },
    {
      "cell_type": "code",
      "source": [
        "!pip install torch torchvision"
      ],
      "metadata": {
        "id": "PXAPufZid-JU"
      },
      "execution_count": null,
      "outputs": []
    },
    {
      "cell_type": "markdown",
      "source": [
        "# Step 1: Download and extract the dataset"
      ],
      "metadata": {
        "id": "RWKDqmc7Ftwx"
      }
    },
    {
      "cell_type": "code",
      "source": [
        "!wget -O EmoSet-118K.zip \"https://www.dropbox.com/scl/fi/myue506itjfc06m7svdw6/EmoSet-118K.zip?dl=1&rlkey=7f3oyjkr6zyndf0gau7t140rv\"\n"
      ],
      "metadata": {
        "colab": {
          "base_uri": "https://localhost:8080/"
        },
        "id": "Ligk_oCSDAmm",
        "outputId": "46423ac6-c27d-484f-9106-89cd04027a28"
      },
      "execution_count": 3,
      "outputs": [
        {
          "output_type": "stream",
          "name": "stdout",
          "text": [
            "--2024-03-20 14:59:11--  https://www.dropbox.com/scl/fi/myue506itjfc06m7svdw6/EmoSet-118K.zip?dl=1&rlkey=7f3oyjkr6zyndf0gau7t140rv\n",
            "Resolving www.dropbox.com (www.dropbox.com)... 162.125.81.18, 2620:100:6031:18::a27d:5112\n",
            "Connecting to www.dropbox.com (www.dropbox.com)|162.125.81.18|:443... connected.\n",
            "HTTP request sent, awaiting response... 302 Found\n",
            "Location: https://uc63266babafe081a32018c9ce72.dl.dropboxusercontent.com/cd/0/inline/CPfA6g5GWkVXmWyUv6hjlGqSibUyyodWGB0UuYQlQYUGG9f5conzAJX2569mFyzUWmidqJs-ID8nUlH_6j1NLUGZgtDb_D-uz_OCMb3cA6Qhzwzq0tfEiT_vQ0N7jrIwc_9l8gDiasRND6UNMtzoMny4/file?dl=1# [following]\n",
            "--2024-03-20 14:59:12--  https://uc63266babafe081a32018c9ce72.dl.dropboxusercontent.com/cd/0/inline/CPfA6g5GWkVXmWyUv6hjlGqSibUyyodWGB0UuYQlQYUGG9f5conzAJX2569mFyzUWmidqJs-ID8nUlH_6j1NLUGZgtDb_D-uz_OCMb3cA6Qhzwzq0tfEiT_vQ0N7jrIwc_9l8gDiasRND6UNMtzoMny4/file?dl=1\n",
            "Resolving uc63266babafe081a32018c9ce72.dl.dropboxusercontent.com (uc63266babafe081a32018c9ce72.dl.dropboxusercontent.com)... 162.125.81.15, 2620:100:6031:15::a27d:510f\n",
            "Connecting to uc63266babafe081a32018c9ce72.dl.dropboxusercontent.com (uc63266babafe081a32018c9ce72.dl.dropboxusercontent.com)|162.125.81.15|:443... connected.\n",
            "HTTP request sent, awaiting response... 302 Found\n",
            "Location: /cd/0/inline2/CPf2gSnCRY7mLFGlDnyRuwWzOXGLhsJzdugBKCb_nQq6-8BKbq2_MNWQHdc2KCHydvZVl5j2omlqw4zKRV8yktr6utn_Gfck4iiWmOt5OyV26L5YRlEBEFgFBilgME-adDEJKzBVfeG3g-ybe3YG2qwemDASDYpFuy4j1K-p9imUnSOAT-5StkRmAxcNea0FoFZLletMTOlcB2LVgaMIAVB0r7Qad7dCKvh911Za40q8F9Bbo4w-mGKEgsmx8FfcheREh-fygHjTB-AeMNTOsiLcRCICbTV01ACv50tPLcrxpFQy4EVDiqBoseK0ETedCpn3IlW1B8yujKs6n_pfA_5NnZef_usuMFXvdgE6yhKgYLmJoPJRQODWdNwvoQJFz7k/file?dl=1 [following]\n",
            "--2024-03-20 14:59:13--  https://uc63266babafe081a32018c9ce72.dl.dropboxusercontent.com/cd/0/inline2/CPf2gSnCRY7mLFGlDnyRuwWzOXGLhsJzdugBKCb_nQq6-8BKbq2_MNWQHdc2KCHydvZVl5j2omlqw4zKRV8yktr6utn_Gfck4iiWmOt5OyV26L5YRlEBEFgFBilgME-adDEJKzBVfeG3g-ybe3YG2qwemDASDYpFuy4j1K-p9imUnSOAT-5StkRmAxcNea0FoFZLletMTOlcB2LVgaMIAVB0r7Qad7dCKvh911Za40q8F9Bbo4w-mGKEgsmx8FfcheREh-fygHjTB-AeMNTOsiLcRCICbTV01ACv50tPLcrxpFQy4EVDiqBoseK0ETedCpn3IlW1B8yujKs6n_pfA_5NnZef_usuMFXvdgE6yhKgYLmJoPJRQODWdNwvoQJFz7k/file?dl=1\n",
            "Reusing existing connection to uc63266babafe081a32018c9ce72.dl.dropboxusercontent.com:443.\n",
            "HTTP request sent, awaiting response... 200 OK\n",
            "Length: 11288914945 (11G) [application/binary]\n",
            "Saving to: ‘EmoSet-118K.zip’\n",
            "\n",
            "EmoSet-118K.zip     100%[===================>]  10.51G  17.6MB/s    in 10m 3s  \n",
            "\n",
            "2024-03-20 15:09:16 (17.8 MB/s) - ‘EmoSet-118K.zip’ saved [11288914945/11288914945]\n",
            "\n"
          ]
        }
      ]
    },
    {
      "cell_type": "code",
      "source": [
        "!unzip -q EmoSet-118K.zip -d /content/EmoSet-118K/"
      ],
      "metadata": {
        "id": "YBf4o0f4Deuz"
      },
      "execution_count": 4,
      "outputs": []
    },
    {
      "cell_type": "markdown",
      "source": [
        "# Step 2: Parse the JSON files to create a mapping for image paths and labels"
      ],
      "metadata": {
        "id": "xHGVt4cTFn_G"
      }
    },
    {
      "cell_type": "code",
      "source": [
        "import os\n",
        "import json\n",
        "import torch\n",
        "import torchvision.models as models\n",
        "from torchvision import transforms\n",
        "from torch.utils.data import Dataset, DataLoader\n",
        "from PIL import Image\n",
        "import torch.nn as nn\n",
        "\n",
        "base_path = '/content/EmoSet-118K'\n",
        "annotations_dir = os.path.join(base_path, 'annotation')\n",
        "images_dir = os.path.join(base_path, 'image')\n",
        "\n",
        "# Parse JSON annotations\n",
        "def parse_annotations(annotations_dir):\n",
        "    annotations = []\n",
        "    for emotion_dir_name in os.listdir(annotations_dir):\n",
        "        emotion_dir_path = os.path.join(annotations_dir, emotion_dir_name)\n",
        "        if os.path.isdir(emotion_dir_path):\n",
        "            for annotation_file in os.listdir(emotion_dir_path):\n",
        "                annotation_file_path = os.path.join(emotion_dir_path, annotation_file)\n",
        "                with open(annotation_file_path, 'r') as f:\n",
        "                    annotation_data = json.load(f)\n",
        "                    annotations.append(annotation_data)\n",
        "    return annotations\n",
        "\n",
        "annotations = parse_annotations(annotations_dir)\n",
        "\n",
        "# Verify the number of annotations loaded\n",
        "print(f\"Loaded {len(annotations)} annotations.\")\n",
        "\n",
        "# Extract unique emotions and create a mapping to indices\n",
        "unique_emotions = sorted({anno['emotion'] for anno in annotations})\n",
        "emotion_to_idx = {emotion: idx for idx, emotion in enumerate(unique_emotions)}\n",
        "print(f\"Unique emotions found: {list(emotion_to_idx.keys())}\")\n",
        "\n",
        "class EmoSetDataset(Dataset):\n",
        "    def __init__(self, annotations, images_dir, transform=None):\n",
        "        self.annotations = annotations\n",
        "        self.images_dir = images_dir\n",
        "        self.transform = transform\n",
        "\n",
        "    def __len__(self):\n",
        "        return len(self.annotations)\n",
        "\n",
        "    def __getitem__(self, idx):\n",
        "        annotation = self.annotations[idx]\n",
        "        image_path = os.path.join(self.images_dir, annotation['emotion'], f\"{annotation['image_id']}.jpg\")\n",
        "        image = Image.open(image_path).convert('RGB')\n",
        "        label = emotion_to_idx[annotation['emotion']]\n",
        "\n",
        "        if self.transform:\n",
        "            image = self.transform(image)\n",
        "\n",
        "        return image, label\n",
        "\n",
        "# Transformations\n",
        "transform = transforms.Compose([\n",
        "    transforms.Resize((224, 224)),\n",
        "    transforms.ToTensor(),\n",
        "    transforms.Normalize(mean=[0.485, 0.456, 0.406], std=[0.229, 0.224, 0.225]),\n",
        "])\n",
        "\n",
        "# Dataset and DataLoader\n",
        "dataset = EmoSetDataset(annotations, images_dir, transform=transform)\n",
        "data_loader = DataLoader(dataset, batch_size=32, shuffle=True)\n"
      ],
      "metadata": {
        "id": "qCP3iwIYFpSO",
        "colab": {
          "base_uri": "https://localhost:8080/",
          "height": 356
        },
        "outputId": "20e9aba7-7bc0-4bbc-c061-bf810333e32b"
      },
      "execution_count": 33,
      "outputs": [
        {
          "output_type": "error",
          "ename": "KeyboardInterrupt",
          "evalue": "",
          "traceback": [
            "\u001b[0;31m---------------------------------------------------------------------------\u001b[0m",
            "\u001b[0;31mKeyboardInterrupt\u001b[0m                         Traceback (most recent call last)",
            "\u001b[0;32m<ipython-input-33-d53801d02fbc>\u001b[0m in \u001b[0;36m<cell line: 27>\u001b[0;34m()\u001b[0m\n\u001b[1;32m     25\u001b[0m     \u001b[0;32mreturn\u001b[0m \u001b[0mannotations\u001b[0m\u001b[0;34m\u001b[0m\u001b[0;34m\u001b[0m\u001b[0m\n\u001b[1;32m     26\u001b[0m \u001b[0;34m\u001b[0m\u001b[0m\n\u001b[0;32m---> 27\u001b[0;31m \u001b[0mannotations\u001b[0m \u001b[0;34m=\u001b[0m \u001b[0mparse_annotations\u001b[0m\u001b[0;34m(\u001b[0m\u001b[0mannotations_dir\u001b[0m\u001b[0;34m)\u001b[0m\u001b[0;34m\u001b[0m\u001b[0;34m\u001b[0m\u001b[0m\n\u001b[0m\u001b[1;32m     28\u001b[0m \u001b[0;34m\u001b[0m\u001b[0m\n\u001b[1;32m     29\u001b[0m \u001b[0;31m# Verify the number of annotations loaded\u001b[0m\u001b[0;34m\u001b[0m\u001b[0;34m\u001b[0m\u001b[0m\n",
            "\u001b[0;32m<ipython-input-33-d53801d02fbc>\u001b[0m in \u001b[0;36mparse_annotations\u001b[0;34m(annotations_dir)\u001b[0m\n\u001b[1;32m     20\u001b[0m             \u001b[0;32mfor\u001b[0m \u001b[0mannotation_file\u001b[0m \u001b[0;32min\u001b[0m \u001b[0mos\u001b[0m\u001b[0;34m.\u001b[0m\u001b[0mlistdir\u001b[0m\u001b[0;34m(\u001b[0m\u001b[0memotion_dir_path\u001b[0m\u001b[0;34m)\u001b[0m\u001b[0;34m:\u001b[0m\u001b[0;34m\u001b[0m\u001b[0;34m\u001b[0m\u001b[0m\n\u001b[1;32m     21\u001b[0m                 \u001b[0mannotation_file_path\u001b[0m \u001b[0;34m=\u001b[0m \u001b[0mos\u001b[0m\u001b[0;34m.\u001b[0m\u001b[0mpath\u001b[0m\u001b[0;34m.\u001b[0m\u001b[0mjoin\u001b[0m\u001b[0;34m(\u001b[0m\u001b[0memotion_dir_path\u001b[0m\u001b[0;34m,\u001b[0m \u001b[0mannotation_file\u001b[0m\u001b[0;34m)\u001b[0m\u001b[0;34m\u001b[0m\u001b[0;34m\u001b[0m\u001b[0m\n\u001b[0;32m---> 22\u001b[0;31m                 \u001b[0;32mwith\u001b[0m \u001b[0mopen\u001b[0m\u001b[0;34m(\u001b[0m\u001b[0mannotation_file_path\u001b[0m\u001b[0;34m,\u001b[0m \u001b[0;34m'r'\u001b[0m\u001b[0;34m)\u001b[0m \u001b[0;32mas\u001b[0m \u001b[0mf\u001b[0m\u001b[0;34m:\u001b[0m\u001b[0;34m\u001b[0m\u001b[0;34m\u001b[0m\u001b[0m\n\u001b[0m\u001b[1;32m     23\u001b[0m                     \u001b[0mannotation_data\u001b[0m \u001b[0;34m=\u001b[0m \u001b[0mjson\u001b[0m\u001b[0;34m.\u001b[0m\u001b[0mload\u001b[0m\u001b[0;34m(\u001b[0m\u001b[0mf\u001b[0m\u001b[0;34m)\u001b[0m\u001b[0;34m\u001b[0m\u001b[0;34m\u001b[0m\u001b[0m\n\u001b[1;32m     24\u001b[0m                     \u001b[0mannotations\u001b[0m\u001b[0;34m.\u001b[0m\u001b[0mappend\u001b[0m\u001b[0;34m(\u001b[0m\u001b[0mannotation_data\u001b[0m\u001b[0;34m)\u001b[0m\u001b[0;34m\u001b[0m\u001b[0;34m\u001b[0m\u001b[0m\n",
            "\u001b[0;32m/usr/lib/python3.10/codecs.py\u001b[0m in \u001b[0;36m__init__\u001b[0;34m(self, errors)\u001b[0m\n\u001b[1;32m    307\u001b[0m     \u001b[0mbyte\u001b[0m \u001b[0msequences\u001b[0m\u001b[0;34m.\u001b[0m\u001b[0;34m\u001b[0m\u001b[0;34m\u001b[0m\u001b[0m\n\u001b[1;32m    308\u001b[0m     \"\"\"\n\u001b[0;32m--> 309\u001b[0;31m     \u001b[0;32mdef\u001b[0m \u001b[0m__init__\u001b[0m\u001b[0;34m(\u001b[0m\u001b[0mself\u001b[0m\u001b[0;34m,\u001b[0m \u001b[0merrors\u001b[0m\u001b[0;34m=\u001b[0m\u001b[0;34m'strict'\u001b[0m\u001b[0;34m)\u001b[0m\u001b[0;34m:\u001b[0m\u001b[0;34m\u001b[0m\u001b[0;34m\u001b[0m\u001b[0m\n\u001b[0m\u001b[1;32m    310\u001b[0m         \u001b[0mIncrementalDecoder\u001b[0m\u001b[0;34m.\u001b[0m\u001b[0m__init__\u001b[0m\u001b[0;34m(\u001b[0m\u001b[0mself\u001b[0m\u001b[0;34m,\u001b[0m \u001b[0merrors\u001b[0m\u001b[0;34m)\u001b[0m\u001b[0;34m\u001b[0m\u001b[0;34m\u001b[0m\u001b[0m\n\u001b[1;32m    311\u001b[0m         \u001b[0;31m# undecoded input that is kept between calls to decode()\u001b[0m\u001b[0;34m\u001b[0m\u001b[0;34m\u001b[0m\u001b[0m\n",
            "\u001b[0;31mKeyboardInterrupt\u001b[0m: "
          ]
        }
      ]
    },
    {
      "cell_type": "markdown",
      "source": [
        "# Step 3: Define the CNN model for emotion classification"
      ],
      "metadata": {
        "id": "PvcJqFUJGUpi"
      }
    },
    {
      "cell_type": "code",
      "source": [
        "import torch\n",
        "import torchvision.models as models\n",
        "from torchvision.models import ResNet50_Weights\n",
        "\n",
        "# Load pre-trained ResNet-50 model\n",
        "weights = ResNet50_Weights.DEFAULT\n",
        "model = models.resnet50(weights=weights)\n",
        "\n",
        "# Modify final layer to match the number of unique emotions\n",
        "num_ftrs = model.fc.in_features\n",
        "model.fc = torch.nn.Linear(num_ftrs, len(unique_emotions))"
      ],
      "metadata": {
        "id": "NCMvgQsxGYEB",
        "colab": {
          "base_uri": "https://localhost:8080/"
        },
        "outputId": "1ac0329e-15c9-4fa0-e0e1-86134ff6daa1"
      },
      "execution_count": 7,
      "outputs": [
        {
          "output_type": "stream",
          "name": "stderr",
          "text": [
            "Downloading: \"https://download.pytorch.org/models/resnet50-11ad3fa6.pth\" to /root/.cache/torch/hub/checkpoints/resnet50-11ad3fa6.pth\n",
            "100%|██████████| 97.8M/97.8M [00:01<00:00, 73.8MB/s]\n"
          ]
        }
      ]
    },
    {
      "cell_type": "markdown",
      "source": [
        "# Step 4: Define loss function and optimizer"
      ],
      "metadata": {
        "id": "0Yec5PhjGlCv"
      }
    },
    {
      "cell_type": "code",
      "source": [
        "criterion = nn.CrossEntropyLoss()\n",
        "optimizer = torch.optim.Adam(model.parameters(), lr=0.001)\n",
        "\n",
        "# Check if the data loader can fetch data\n",
        "for images, labels in data_loader:\n",
        "    print(f\"Fetched {images.shape[0]} samples.\")\n",
        "    break  # Only fetch one batch for checking\n"
      ],
      "metadata": {
        "colab": {
          "base_uri": "https://localhost:8080/"
        },
        "id": "Fe8qlneNGnVx",
        "outputId": "3e2c46b9-e09e-4828-bb65-b2664f1c4ad8"
      },
      "execution_count": 8,
      "outputs": [
        {
          "output_type": "stream",
          "name": "stdout",
          "text": [
            "Fetched 32 samples.\n"
          ]
        }
      ]
    },
    {
      "cell_type": "markdown",
      "source": [
        "# Step 5: Train the model"
      ],
      "metadata": {
        "id": "LFJ809r3Gr7y"
      }
    },
    {
      "cell_type": "code",
      "source": [
        "!pip install tqdm"
      ],
      "metadata": {
        "colab": {
          "base_uri": "https://localhost:8080/"
        },
        "id": "EN3PKkLRk8KD",
        "outputId": "99ccc37a-09fc-4992-efff-08e159180ed4"
      },
      "execution_count": 9,
      "outputs": [
        {
          "output_type": "stream",
          "name": "stdout",
          "text": [
            "Requirement already satisfied: tqdm in /usr/local/lib/python3.10/dist-packages (4.66.2)\n"
          ]
        }
      ]
    },
    {
      "cell_type": "code",
      "source": [
        "import torch\n",
        "from tqdm import tqdm\n",
        "\n",
        "# Setup device: Use GPU if available, else fall back to CPU\n",
        "device = torch.device('cuda' if torch.cuda.is_available() else 'cpu')\n",
        "print(f'Using device: {device}')\n",
        "\n",
        "model = model.to(device)\n",
        "\n",
        "num_epochs = 5\n",
        "\n",
        "# Start the training loop\n",
        "for epoch in range(num_epochs):\n",
        "    model.train()  # Set the model to training mode\n",
        "    running_loss = 0.0\n",
        "    correct_predictions = 0\n",
        "    total_predictions = 0\n",
        "\n",
        "    # Wrap your data loader with tqdm for a progress bar\n",
        "    data_loader_tqdm = tqdm(data_loader, desc=f'Epoch {epoch+1}/{num_epochs}', leave=True)\n",
        "\n",
        "    for inputs, labels in data_loader_tqdm:\n",
        "        # Move inputs and labels to the correct device\n",
        "        inputs, labels = inputs.to(device), labels.to(device)\n",
        "\n",
        "        # Zero the parameter gradients\n",
        "        optimizer.zero_grad()\n",
        "\n",
        "        # Forward pass, backward pass, and optimize\n",
        "        outputs = model(inputs)\n",
        "        loss = criterion(outputs, labels)\n",
        "        loss.backward()\n",
        "        optimizer.step()\n",
        "\n",
        "        # Calculate and accumulate loss and accuracy\n",
        "        running_loss += loss.item() * inputs.size(0)\n",
        "        _, preds = torch.max(outputs, 1)\n",
        "        correct_predictions += torch.sum(preds == labels.data)\n",
        "        total_predictions += labels.size(0)\n",
        "\n",
        "        # Update the progress bar with the current loss and accuracy\n",
        "        data_loader_tqdm.set_description(f'Epoch {epoch+1}/{num_epochs} Loss: {running_loss/total_predictions:.4f} Acc: {correct_predictions.double()/total_predictions:.4f}')\n",
        "\n",
        "    # Log the metrics for the epoch\n",
        "    print(f'Finished Epoch {epoch+1}/{num_epochs}, Loss: {running_loss/total_predictions:.4f}, Accuracy: {correct_predictions.double()/total_predictions:.4f}')\n",
        "\n",
        "print('Finished Training')"
      ],
      "metadata": {
        "id": "Isy5nGnTGuif",
        "colab": {
          "base_uri": "https://localhost:8080/"
        },
        "outputId": "1bda4c66-0930-4466-dd86-9197e4688bf5"
      },
      "execution_count": 10,
      "outputs": [
        {
          "output_type": "stream",
          "name": "stdout",
          "text": [
            "Using device: cuda\n"
          ]
        },
        {
          "output_type": "stream",
          "name": "stderr",
          "text": [
            "Epoch 1/5 Loss: 1.1553 Acc: 0.5809: 100%|██████████| 3691/3691 [19:41<00:00,  3.12it/s]\n"
          ]
        },
        {
          "output_type": "stream",
          "name": "stdout",
          "text": [
            "Finished Epoch 1/5, Loss: 1.1553, Accuracy: 0.5809\n"
          ]
        },
        {
          "output_type": "stream",
          "name": "stderr",
          "text": [
            "Epoch 2/5 Loss: 0.9518 Acc: 0.6530: 100%|██████████| 3691/3691 [19:33<00:00,  3.15it/s]\n"
          ]
        },
        {
          "output_type": "stream",
          "name": "stdout",
          "text": [
            "Finished Epoch 2/5, Loss: 0.9518, Accuracy: 0.6530\n"
          ]
        },
        {
          "output_type": "stream",
          "name": "stderr",
          "text": [
            "Epoch 3/5 Loss: 0.8390 Acc: 0.6935: 100%|██████████| 3691/3691 [19:29<00:00,  3.16it/s]\n"
          ]
        },
        {
          "output_type": "stream",
          "name": "stdout",
          "text": [
            "Finished Epoch 3/5, Loss: 0.8390, Accuracy: 0.6935\n"
          ]
        },
        {
          "output_type": "stream",
          "name": "stderr",
          "text": [
            "Epoch 4/5 Loss: 0.7339 Acc: 0.7300: 100%|██████████| 3691/3691 [19:31<00:00,  3.15it/s]\n"
          ]
        },
        {
          "output_type": "stream",
          "name": "stdout",
          "text": [
            "Finished Epoch 4/5, Loss: 0.7339, Accuracy: 0.7300\n"
          ]
        },
        {
          "output_type": "stream",
          "name": "stderr",
          "text": [
            "Epoch 5/5 Loss: 0.6162 Acc: 0.7724: 100%|██████████| 3691/3691 [19:27<00:00,  3.16it/s]"
          ]
        },
        {
          "output_type": "stream",
          "name": "stdout",
          "text": [
            "Finished Epoch 5/5, Loss: 0.6162, Accuracy: 0.7724\n",
            "Finished Training\n"
          ]
        },
        {
          "output_type": "stream",
          "name": "stderr",
          "text": [
            "\n"
          ]
        }
      ]
    },
    {
      "cell_type": "markdown",
      "source": [
        "## Step 5.5: Test data"
      ],
      "metadata": {
        "id": "UTwkiI8t3gA_"
      }
    },
    {
      "cell_type": "code",
      "source": [
        "import os\n",
        "import shutil\n",
        "from random import sample\n",
        "\n",
        "# Base directory for dataset images\n",
        "base_path = '/content/EmoSet-118K/image'\n",
        "# Directory for test images\n",
        "test_dir = '/content/test'\n",
        "\n",
        "# Create test directory if it doesn't exist\n",
        "if not os.path.exists(test_dir):\n",
        "    os.makedirs(test_dir)\n",
        "    print(f\"Created test directory: {test_dir}\")\n",
        "else:\n",
        "    print(f\"Test directory already exists: {test_dir}\")\n",
        "\n",
        "# Get all images from each emotion subdirectory\n",
        "all_images = []\n",
        "emotion_subdirs = [d for d in os.listdir(base_path) if os.path.isdir(os.path.join(base_path, d))]\n",
        "\n",
        "for emotion_subdir in emotion_subdirs:\n",
        "    emotion_path = os.path.join(base_path, emotion_subdir)\n",
        "    images = [os.path.join(emotion_path, img) for img in os.listdir(emotion_path) if img.lower().endswith(('.png', '.jpg', '.jpeg'))]\n",
        "    all_images.extend(images)\n",
        "\n",
        "# Sample 100 images or the total number of images if less than 100\n",
        "num_images_to_select = min(100, len(all_images))\n",
        "selected_images = sample(all_images, num_images_to_select)\n",
        "\n",
        "# Copy selected images to the test directory, maintaining the emotion subdirectory structure\n",
        "for img_path in selected_images:\n",
        "    emotion_subdir = os.path.basename(os.path.dirname(img_path))\n",
        "    destination_subdir = os.path.join(test_dir, emotion_subdir)\n",
        "    if not os.path.exists(destination_subdir):\n",
        "        os.makedirs(destination_subdir)\n",
        "    shutil.copy(img_path, destination_subdir)\n",
        "\n",
        "print(f\"Completed preparing the test set with {num_images_to_select} images in: {test_dir}\")\n"
      ],
      "metadata": {
        "colab": {
          "base_uri": "https://localhost:8080/"
        },
        "id": "w7ei7LN33j7J",
        "outputId": "89535579-5f79-4031-a317-867f331109a4"
      },
      "execution_count": 29,
      "outputs": [
        {
          "output_type": "stream",
          "name": "stdout",
          "text": [
            "Test directory already exists: /content/test\n",
            "Completed preparing the test set with 100 images in: /content/test\n"
          ]
        }
      ]
    },
    {
      "cell_type": "markdown",
      "source": [
        "# Step 6: Evaluate the model"
      ],
      "metadata": {
        "id": "M5r-Sv1vGxdp"
      }
    },
    {
      "cell_type": "code",
      "source": [
        "from torchvision import transforms\n",
        "from torch.utils.data import DataLoader\n",
        "from tqdm import tqdm\n",
        "\n",
        "# Assuming the EmoSetDataset class and emotion_to_idx have been defined in earlier steps\n",
        "# Define the transformation applied to the test images\n",
        "transform = transforms.Compose([\n",
        "    transforms.Resize((224, 224)),\n",
        "    transforms.ToTensor(),\n",
        "    transforms.Normalize(mean=[0.485, 0.456, 0.406], std=[0.229, 0.224, 0.225]),\n",
        "])\n",
        "\n",
        "# Prepare the test dataset\n",
        "test_annotations = [{\n",
        "    'emotion': os.path.basename(os.path.dirname(img_path)),\n",
        "    'image_id': os.path.splitext(os.path.basename(img_path))[0]\n",
        "} for img_path in selected_images]\n",
        "\n",
        "# Initialize the test dataset with the test_dir as the images_dir\n",
        "test_dataset = EmoSetDataset(test_annotations, images_dir=test_dir, transform=transform)\n",
        "\n",
        "# Initialize the DataLoader for the test dataset\n",
        "test_loader = DataLoader(test_dataset, batch_size=32, shuffle=False)\n",
        "\n",
        "# Evaluate the model\n",
        "device = torch.device('cuda' if torch.cuda.is_available() else 'cpu')\n",
        "model.to(device)\n",
        "model.eval()\n",
        "\n",
        "running_corrects = 0\n",
        "total_samples = 0\n",
        "\n",
        "for inputs, labels in tqdm(test_loader, desc=\"Evaluating\"):\n",
        "    inputs, labels = inputs.to(device), labels.to(device)\n",
        "    with torch.no_grad():\n",
        "        outputs = model(inputs)\n",
        "        _, preds = torch.max(outputs, 1)\n",
        "        running_corrects += torch.sum(preds == labels).item()\n",
        "    total_samples += labels.size(0)\n",
        "\n",
        "test_acc = running_corrects / total_samples\n",
        "print(f\"Test Accuracy: {test_acc:.4f}\")"
      ],
      "metadata": {
        "id": "TX80GsE_GzvJ",
        "colab": {
          "base_uri": "https://localhost:8080/"
        },
        "outputId": "dd05ec3c-a57a-4cfe-ca14-bfe659a8d989"
      },
      "execution_count": 31,
      "outputs": [
        {
          "output_type": "stream",
          "name": "stderr",
          "text": [
            "Evaluating: 100%|██████████| 4/4 [00:01<00:00,  3.85it/s]"
          ]
        },
        {
          "output_type": "stream",
          "name": "stdout",
          "text": [
            "Test Accuracy: 0.0900\n"
          ]
        },
        {
          "output_type": "stream",
          "name": "stderr",
          "text": [
            "\n"
          ]
        }
      ]
    },
    {
      "cell_type": "code",
      "source": [
        "print(f\"Number of test annotations: {len(test_annotations)}\")\n",
        "print(\"Sample test annotations:\", test_annotations[:3])"
      ],
      "metadata": {
        "colab": {
          "base_uri": "https://localhost:8080/"
        },
        "id": "BYE9SGzc2OkU",
        "outputId": "0f09a2e6-bdd1-4550-ca86-497d2580b512"
      },
      "execution_count": 24,
      "outputs": [
        {
          "output_type": "stream",
          "name": "stdout",
          "text": [
            "Number of test annotations: 0\n",
            "Sample test annotations: []\n"
          ]
        }
      ]
    },
    {
      "cell_type": "markdown",
      "source": [
        "# Step 7: Predict emotion for new images"
      ],
      "metadata": {
        "id": "2cfVh3OnIn2V"
      }
    },
    {
      "cell_type": "code",
      "source": [
        "import torch\n",
        "from PIL import Image\n",
        "from torchvision import transforms\n",
        "\n",
        "# Assuming 'model' is your trained model and 'emotion_to_idx' is your mapping from emotions to indices\n",
        "idx_to_emotion = {v: k for k, v in emotion_to_idx.items()}  # Create a reverse mapping from indices to emotions\n",
        "\n",
        "# Function to predict emotion from an image path\n",
        "def predict_emotion(image_path, model, transform):\n",
        "    model.eval()  # Set model to evaluation mode\n",
        "    with torch.no_grad():  # No need to track gradients\n",
        "        # Load and preprocess the image\n",
        "        image = Image.open(image_path).convert('RGB')\n",
        "        image = transform(image).unsqueeze(0)  # Add batch dimension\n",
        "\n",
        "        # Move the image tensor to the same device as the model\n",
        "        image = image.to(next(model.parameters()).device)\n",
        "\n",
        "        # Perform inference\n",
        "        outputs = model(image)\n",
        "        _, predicted_idx = torch.max(outputs, 1)\n",
        "\n",
        "        # Retrieve the predicted emotion\n",
        "        predicted_emotion = idx_to_emotion[predicted_idx.item()]\n",
        "\n",
        "        return predicted_emotion\n",
        "\n",
        "# Define the same transformations used during training/validation\n",
        "transform = transforms.Compose([\n",
        "    transforms.Resize((224, 224)),\n",
        "    transforms.ToTensor(),\n",
        "    transforms.Normalize(mean=[0.485, 0.456, 0.406], std=[0.229, 0.224, 0.225]),\n",
        "])\n",
        "\n",
        "image_path = '/content/Images-input/happy2.jpeg'  # Replace with your image path\n",
        "predicted_emotion = predict_emotion(image_path, model, transform)\n",
        "print(f\"Predicted emotion: {predicted_emotion}\")"
      ],
      "metadata": {
        "colab": {
          "base_uri": "https://localhost:8080/"
        },
        "id": "q3H87g7mIupy",
        "outputId": "47f97bdd-41e8-4f92-dbd6-43bac7c8314f"
      },
      "execution_count": 38,
      "outputs": [
        {
          "output_type": "stream",
          "name": "stdout",
          "text": [
            "Predicted emotion: fear\n"
          ]
        }
      ]
    }
  ]
}