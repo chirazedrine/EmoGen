{
  "nbformat": 4,
  "nbformat_minor": 0,
  "metadata": {
    "colab": {
      "provenance": [],
      "collapsed_sections": [
        "J72su8lnFrWS",
        "RWKDqmc7Ftwx"
      ],
      "authorship_tag": "ABX9TyOwOSLp9M9I/Dt2VGlT7vna",
      "include_colab_link": true
    },
    "kernelspec": {
      "name": "python3",
      "display_name": "Python 3"
    },
    "language_info": {
      "name": "python"
    }
  },
  "cells": [
    {
      "cell_type": "markdown",
      "metadata": {
        "id": "view-in-github",
        "colab_type": "text"
      },
      "source": [
        "<a href=\"https://colab.research.google.com/github/chirazedrine/EmoGen/blob/main/EmoGen.ipynb\" target=\"_parent\"><img src=\"https://colab.research.google.com/assets/colab-badge.svg\" alt=\"Open In Colab\"/></a>"
      ]
    },
    {
      "cell_type": "markdown",
      "source": [
        "# Step 0: Dowload dependencies"
      ],
      "metadata": {
        "id": "J72su8lnFrWS"
      }
    },
    {
      "cell_type": "code",
      "execution_count": null,
      "metadata": {
        "colab": {
          "base_uri": "https://localhost:8080/"
        },
        "id": "6hht6ExRCr15",
        "outputId": "4d7e267f-281a-44c5-dff3-874e2fb8213e"
      },
      "outputs": [
        {
          "output_type": "stream",
          "name": "stdout",
          "text": [
            "Requirement already satisfied: torch in /usr/local/lib/python3.10/dist-packages (2.2.1+cu121)\n",
            "Requirement already satisfied: torchvision in /usr/local/lib/python3.10/dist-packages (0.17.1+cu121)\n",
            "Requirement already satisfied: filelock in /usr/local/lib/python3.10/dist-packages (from torch) (3.13.1)\n",
            "Requirement already satisfied: typing-extensions>=4.8.0 in /usr/local/lib/python3.10/dist-packages (from torch) (4.10.0)\n",
            "Requirement already satisfied: sympy in /usr/local/lib/python3.10/dist-packages (from torch) (1.12)\n",
            "Requirement already satisfied: networkx in /usr/local/lib/python3.10/dist-packages (from torch) (3.2.1)\n",
            "Requirement already satisfied: jinja2 in /usr/local/lib/python3.10/dist-packages (from torch) (3.1.3)\n",
            "Requirement already satisfied: fsspec in /usr/local/lib/python3.10/dist-packages (from torch) (2023.6.0)\n",
            "Collecting nvidia-cuda-nvrtc-cu12==12.1.105 (from torch)\n",
            "  Downloading nvidia_cuda_nvrtc_cu12-12.1.105-py3-none-manylinux1_x86_64.whl (23.7 MB)\n",
            "\u001b[2K     \u001b[90m━━━━━━━━━━━━━━━━━━━━━━━━━━━━━━━━━━━━━━━━\u001b[0m \u001b[32m23.7/23.7 MB\u001b[0m \u001b[31m20.8 MB/s\u001b[0m eta \u001b[36m0:00:00\u001b[0m\n",
            "\u001b[?25hCollecting nvidia-cuda-runtime-cu12==12.1.105 (from torch)\n",
            "  Downloading nvidia_cuda_runtime_cu12-12.1.105-py3-none-manylinux1_x86_64.whl (823 kB)\n",
            "\u001b[2K     \u001b[90m━━━━━━━━━━━━━━━━━━━━━━━━━━━━━━━━━━━━━━━━\u001b[0m \u001b[32m823.6/823.6 kB\u001b[0m \u001b[31m19.3 MB/s\u001b[0m eta \u001b[36m0:00:00\u001b[0m\n",
            "\u001b[?25hCollecting nvidia-cuda-cupti-cu12==12.1.105 (from torch)\n",
            "  Downloading nvidia_cuda_cupti_cu12-12.1.105-py3-none-manylinux1_x86_64.whl (14.1 MB)\n",
            "\u001b[2K     \u001b[90m━━━━━━━━━━━━━━━━━━━━━━━━━━━━━━━━━━━━━━━━\u001b[0m \u001b[32m14.1/14.1 MB\u001b[0m \u001b[31m33.8 MB/s\u001b[0m eta \u001b[36m0:00:00\u001b[0m\n",
            "\u001b[?25hCollecting nvidia-cudnn-cu12==8.9.2.26 (from torch)\n",
            "  Downloading nvidia_cudnn_cu12-8.9.2.26-py3-none-manylinux1_x86_64.whl (731.7 MB)\n",
            "\u001b[2K     \u001b[90m━━━━━━━━━━━━━━━━━━━━━━━━━━━━━━━━━━━━━━━━\u001b[0m \u001b[32m731.7/731.7 MB\u001b[0m \u001b[31m1.6 MB/s\u001b[0m eta \u001b[36m0:00:00\u001b[0m\n",
            "\u001b[?25hCollecting nvidia-cublas-cu12==12.1.3.1 (from torch)\n",
            "  Downloading nvidia_cublas_cu12-12.1.3.1-py3-none-manylinux1_x86_64.whl (410.6 MB)\n",
            "\u001b[2K     \u001b[90m━━━━━━━━━━━━━━━━━━━━━━━━━━━━━━━━━━━━━━━━\u001b[0m \u001b[32m410.6/410.6 MB\u001b[0m \u001b[31m3.2 MB/s\u001b[0m eta \u001b[36m0:00:00\u001b[0m\n",
            "\u001b[?25hCollecting nvidia-cufft-cu12==11.0.2.54 (from torch)\n",
            "  Downloading nvidia_cufft_cu12-11.0.2.54-py3-none-manylinux1_x86_64.whl (121.6 MB)\n",
            "\u001b[2K     \u001b[90m━━━━━━━━━━━━━━━━━━━━━━━━━━━━━━━━━━━━━━━━\u001b[0m \u001b[32m121.6/121.6 MB\u001b[0m \u001b[31m8.4 MB/s\u001b[0m eta \u001b[36m0:00:00\u001b[0m\n",
            "\u001b[?25hCollecting nvidia-curand-cu12==10.3.2.106 (from torch)\n",
            "  Downloading nvidia_curand_cu12-10.3.2.106-py3-none-manylinux1_x86_64.whl (56.5 MB)\n",
            "\u001b[2K     \u001b[90m━━━━━━━━━━━━━━━━━━━━━━━━━━━━━━━━━━━━━━━━\u001b[0m \u001b[32m56.5/56.5 MB\u001b[0m \u001b[31m9.2 MB/s\u001b[0m eta \u001b[36m0:00:00\u001b[0m\n",
            "\u001b[?25hCollecting nvidia-cusolver-cu12==11.4.5.107 (from torch)\n",
            "  Downloading nvidia_cusolver_cu12-11.4.5.107-py3-none-manylinux1_x86_64.whl (124.2 MB)\n",
            "\u001b[2K     \u001b[90m━━━━━━━━━━━━━━━━━━━━━━━━━━━━━━━━━━━━━━━━\u001b[0m \u001b[32m124.2/124.2 MB\u001b[0m \u001b[31m8.0 MB/s\u001b[0m eta \u001b[36m0:00:00\u001b[0m\n",
            "\u001b[?25hCollecting nvidia-cusparse-cu12==12.1.0.106 (from torch)\n",
            "  Downloading nvidia_cusparse_cu12-12.1.0.106-py3-none-manylinux1_x86_64.whl (196.0 MB)\n",
            "\u001b[2K     \u001b[90m━━━━━━━━━━━━━━━━━━━━━━━━━━━━━━━━━━━━━━━━\u001b[0m \u001b[32m196.0/196.0 MB\u001b[0m \u001b[31m2.3 MB/s\u001b[0m eta \u001b[36m0:00:00\u001b[0m\n",
            "\u001b[?25hCollecting nvidia-nccl-cu12==2.19.3 (from torch)\n",
            "  Downloading nvidia_nccl_cu12-2.19.3-py3-none-manylinux1_x86_64.whl (166.0 MB)\n",
            "\u001b[2K     \u001b[90m━━━━━━━━━━━━━━━━━━━━━━━━━━━━━━━━━━━━━━━━\u001b[0m \u001b[32m166.0/166.0 MB\u001b[0m \u001b[31m7.0 MB/s\u001b[0m eta \u001b[36m0:00:00\u001b[0m\n",
            "\u001b[?25hCollecting nvidia-nvtx-cu12==12.1.105 (from torch)\n",
            "  Downloading nvidia_nvtx_cu12-12.1.105-py3-none-manylinux1_x86_64.whl (99 kB)\n",
            "\u001b[2K     \u001b[90m━━━━━━━━━━━━━━━━━━━━━━━━━━━━━━━━━━━━━━━━\u001b[0m \u001b[32m99.1/99.1 kB\u001b[0m \u001b[31m14.5 MB/s\u001b[0m eta \u001b[36m0:00:00\u001b[0m\n",
            "\u001b[?25hRequirement already satisfied: triton==2.2.0 in /usr/local/lib/python3.10/dist-packages (from torch) (2.2.0)\n",
            "Collecting nvidia-nvjitlink-cu12 (from nvidia-cusolver-cu12==11.4.5.107->torch)\n",
            "  Downloading nvidia_nvjitlink_cu12-12.4.99-py3-none-manylinux2014_x86_64.whl (21.1 MB)\n",
            "\u001b[2K     \u001b[90m━━━━━━━━━━━━━━━━━━━━━━━━━━━━━━━━━━━━━━━━\u001b[0m \u001b[32m21.1/21.1 MB\u001b[0m \u001b[31m53.3 MB/s\u001b[0m eta \u001b[36m0:00:00\u001b[0m\n",
            "\u001b[?25hRequirement already satisfied: numpy in /usr/local/lib/python3.10/dist-packages (from torchvision) (1.25.2)\n",
            "Requirement already satisfied: pillow!=8.3.*,>=5.3.0 in /usr/local/lib/python3.10/dist-packages (from torchvision) (9.4.0)\n",
            "Requirement already satisfied: MarkupSafe>=2.0 in /usr/local/lib/python3.10/dist-packages (from jinja2->torch) (2.1.5)\n",
            "Requirement already satisfied: mpmath>=0.19 in /usr/local/lib/python3.10/dist-packages (from sympy->torch) (1.3.0)\n",
            "Installing collected packages: nvidia-nvtx-cu12, nvidia-nvjitlink-cu12, nvidia-nccl-cu12, nvidia-curand-cu12, nvidia-cufft-cu12, nvidia-cuda-runtime-cu12, nvidia-cuda-nvrtc-cu12, nvidia-cuda-cupti-cu12, nvidia-cublas-cu12, nvidia-cusparse-cu12, nvidia-cudnn-cu12, nvidia-cusolver-cu12\n",
            "Successfully installed nvidia-cublas-cu12-12.1.3.1 nvidia-cuda-cupti-cu12-12.1.105 nvidia-cuda-nvrtc-cu12-12.1.105 nvidia-cuda-runtime-cu12-12.1.105 nvidia-cudnn-cu12-8.9.2.26 nvidia-cufft-cu12-11.0.2.54 nvidia-curand-cu12-10.3.2.106 nvidia-cusolver-cu12-11.4.5.107 nvidia-cusparse-cu12-12.1.0.106 nvidia-nccl-cu12-2.19.3 nvidia-nvjitlink-cu12-12.4.99 nvidia-nvtx-cu12-12.1.105\n"
          ]
        }
      ],
      "source": [
        "!pip install torch torchvision"
      ]
    },
    {
      "cell_type": "markdown",
      "source": [
        "# Step 1: Download and extract the dataset"
      ],
      "metadata": {
        "id": "RWKDqmc7Ftwx"
      }
    },
    {
      "cell_type": "code",
      "source": [
        "!wget -O EmoSet-118K.zip \"https://www.dropbox.com/scl/fi/myue506itjfc06m7svdw6/EmoSet-118K.zip?dl=1&rlkey=7f3oyjkr6zyndf0gau7t140rv\"\n"
      ],
      "metadata": {
        "colab": {
          "base_uri": "https://localhost:8080/"
        },
        "id": "Ligk_oCSDAmm",
        "outputId": "2ae3c3d9-424c-47e0-be22-8dcdb1f72939"
      },
      "execution_count": null,
      "outputs": [
        {
          "output_type": "stream",
          "name": "stdout",
          "text": [
            "--2024-03-19 18:51:04--  https://www.dropbox.com/scl/fi/myue506itjfc06m7svdw6/EmoSet-118K.zip?dl=1&rlkey=7f3oyjkr6zyndf0gau7t140rv\n",
            "Resolving www.dropbox.com (www.dropbox.com)... 162.125.65.18, 2620:100:6017:18::a27d:212\n",
            "Connecting to www.dropbox.com (www.dropbox.com)|162.125.65.18|:443... connected.\n",
            "HTTP request sent, awaiting response... 302 Found\n",
            "Location: https://ucd979efa0cdc8e133e88ec69690.dl.dropboxusercontent.com/cd/0/inline/CPZ8aafbmgj_XIkwJshLXXid56aHdpEjdCLCQPnYmAip7RZjUUjHKcHglrn56cvvVOspHrnDIJTi3uys8KWorw3u0MfIhe2TU8B21LfKrIEjE8ckva94oQHrCK6Qf3x4pMa4N3wzw4nZH_9rj3mebmX0/file?dl=1# [following]\n",
            "--2024-03-19 18:51:05--  https://ucd979efa0cdc8e133e88ec69690.dl.dropboxusercontent.com/cd/0/inline/CPZ8aafbmgj_XIkwJshLXXid56aHdpEjdCLCQPnYmAip7RZjUUjHKcHglrn56cvvVOspHrnDIJTi3uys8KWorw3u0MfIhe2TU8B21LfKrIEjE8ckva94oQHrCK6Qf3x4pMa4N3wzw4nZH_9rj3mebmX0/file?dl=1\n",
            "Resolving ucd979efa0cdc8e133e88ec69690.dl.dropboxusercontent.com (ucd979efa0cdc8e133e88ec69690.dl.dropboxusercontent.com)... 162.125.65.15, 2620:100:6017:15::a27d:20f\n",
            "Connecting to ucd979efa0cdc8e133e88ec69690.dl.dropboxusercontent.com (ucd979efa0cdc8e133e88ec69690.dl.dropboxusercontent.com)|162.125.65.15|:443... connected.\n",
            "HTTP request sent, awaiting response... 302 Found\n",
            "Location: /cd/0/inline2/CPZd4E3dOqeOt6Xae8AUzN7XjT3UmwB2vqOTF0zDSkT4YnZ_5jJI1xNfXdlJuu58fFMOzwYzngA9w8fpJjraWUeBLCeAHTjyHfPL-UHclrZuxvziWwe1AtilV5C2M02d3xYYuqYOMVf1G3toxGMOzmssUzvdQo23ABZQ2kMlcla1RGcXhMt2kZzMmOMNYsV_Hfg42X3hfzgCE0vcAMl0jBcrHDB-vGSauRaGyyhnrdlqMV8PeuGsd0-a5bK3GfSHF06yW4Af4q6cLlyvQ9uNfX2gpYLKZ3ARdP-POf1mWwylMNlk7--DdUATuiJdY3nz7chaetkzvd1futh5A2khYUUEJDwATbtK8Yw0Z0EZ6cufqjE9szGr0Q6gXHh2Wl5_Cdg/file?dl=1 [following]\n",
            "--2024-03-19 18:51:06--  https://ucd979efa0cdc8e133e88ec69690.dl.dropboxusercontent.com/cd/0/inline2/CPZd4E3dOqeOt6Xae8AUzN7XjT3UmwB2vqOTF0zDSkT4YnZ_5jJI1xNfXdlJuu58fFMOzwYzngA9w8fpJjraWUeBLCeAHTjyHfPL-UHclrZuxvziWwe1AtilV5C2M02d3xYYuqYOMVf1G3toxGMOzmssUzvdQo23ABZQ2kMlcla1RGcXhMt2kZzMmOMNYsV_Hfg42X3hfzgCE0vcAMl0jBcrHDB-vGSauRaGyyhnrdlqMV8PeuGsd0-a5bK3GfSHF06yW4Af4q6cLlyvQ9uNfX2gpYLKZ3ARdP-POf1mWwylMNlk7--DdUATuiJdY3nz7chaetkzvd1futh5A2khYUUEJDwATbtK8Yw0Z0EZ6cufqjE9szGr0Q6gXHh2Wl5_Cdg/file?dl=1\n",
            "Reusing existing connection to ucd979efa0cdc8e133e88ec69690.dl.dropboxusercontent.com:443.\n",
            "HTTP request sent, awaiting response... 200 OK\n",
            "Length: 11288914945 (11G) [application/binary]\n",
            "Saving to: ‘EmoSet-118K.zip’\n",
            "\n",
            "EmoSet-118K.zip     100%[===================>]  10.51G  19.5MB/s    in 9m 32s  \n",
            "\n",
            "2024-03-19 19:00:39 (18.8 MB/s) - ‘EmoSet-118K.zip’ saved [11288914945/11288914945]\n",
            "\n"
          ]
        }
      ]
    },
    {
      "cell_type": "code",
      "source": [
        "!unzip -q EmoSet-118K.zip"
      ],
      "metadata": {
        "id": "YBf4o0f4Deuz"
      },
      "execution_count": null,
      "outputs": []
    },
    {
      "cell_type": "code",
      "source": [
        "!mkdir -p /content/EmoSet-118K  # Create the target directory if it doesn't exist\n",
        "!mv /content/annotation /content/EmoSet-118K/\n",
        "!mv /content/image /content/EmoSet-118K/\n",
        "!mv /content/*.json /content/EmoSet-118K/  # Move all json files\n"
      ],
      "metadata": {
        "id": "8_DYzG5xFjDx"
      },
      "execution_count": null,
      "outputs": []
    },
    {
      "cell_type": "markdown",
      "source": [
        "# Step 2: Parse the JSON files to create a mapping for image paths and labels"
      ],
      "metadata": {
        "id": "xHGVt4cTFn_G"
      }
    },
    {
      "cell_type": "code",
      "source": [
        "import os\n",
        "import json\n",
        "import torch\n",
        "import torchvision.models as models\n",
        "from torchvision import transforms\n",
        "from torch.utils.data import Dataset, DataLoader\n",
        "from PIL import Image\n",
        "import torch.nn as nn\n",
        "\n",
        "# Define directories\n",
        "base_path = '/content/EmoSet-118K'\n",
        "annotations_dir = os.path.join(base_path, 'annotation')\n",
        "images_dir = os.path.join(base_path, 'image')\n",
        "\n",
        "# Define a function to parse JSON annotations\n",
        "def parse_annotations(annotations_dir):\n",
        "    annotations = []\n",
        "    for emotion_dir_name in os.listdir(annotations_dir):\n",
        "        emotion_dir_path = os.path.join(annotations_dir, emotion_dir_name)\n",
        "        if os.path.isdir(emotion_dir_path):\n",
        "            for annotation_file in os.listdir(emotion_dir_path):\n",
        "                annotation_file_path = os.path.join(emotion_dir_path, annotation_file)\n",
        "                with open(annotation_file_path, 'r') as f:\n",
        "                    annotation_data = json.load(f)\n",
        "                    annotations.append(annotation_data)\n",
        "    return annotations\n",
        "\n",
        "annotations = parse_annotations(annotations_dir)\n",
        "\n",
        "# Verify the number of annotations loaded\n",
        "print(f\"Loaded {len(annotations)} annotations.\")\n",
        "\n",
        "# Extract unique emotions and create a mapping to indices\n",
        "unique_emotions = sorted({anno['emotion'] for anno in annotations})\n",
        "emotion_to_idx = {emotion: idx for idx, emotion in enumerate(unique_emotions)}\n",
        "print(f\"Unique emotions found: {list(emotion_to_idx.keys())}\")\n",
        "\n",
        "# Custom Dataset class\n",
        "class EmoSetDataset(Dataset):\n",
        "    def __init__(self, annotations, images_dir, transform=None):\n",
        "        self.annotations = annotations\n",
        "        self.images_dir = images_dir\n",
        "        self.transform = transform\n",
        "\n",
        "    def __len__(self):\n",
        "        return len(self.annotations)\n",
        "\n",
        "    def __getitem__(self, idx):\n",
        "        annotation = self.annotations[idx]\n",
        "        image_path = os.path.join(self.images_dir, annotation['emotion'], f\"{annotation['image_id']}.jpg\")\n",
        "        image = Image.open(image_path).convert('RGB')\n",
        "        label = emotion_to_idx[annotation['emotion']]\n",
        "\n",
        "        if self.transform:\n",
        "            image = self.transform(image)\n",
        "\n",
        "        return image, label\n",
        "\n",
        "# Transformations\n",
        "transform = transforms.Compose([\n",
        "    transforms.Resize((224, 224)),\n",
        "    transforms.ToTensor(),\n",
        "    transforms.Normalize(mean=[0.485, 0.456, 0.406], std=[0.229, 0.224, 0.225]),\n",
        "])\n",
        "\n",
        "# Dataset and DataLoader\n",
        "dataset = EmoSetDataset(annotations, images_dir, transform=transform)\n",
        "data_loader = DataLoader(dataset, batch_size=32, shuffle=True)\n"
      ],
      "metadata": {
        "id": "qCP3iwIYFpSO",
        "colab": {
          "base_uri": "https://localhost:8080/"
        },
        "outputId": "41086697-dab2-4786-da17-97fd18c13509"
      },
      "execution_count": null,
      "outputs": [
        {
          "output_type": "stream",
          "name": "stdout",
          "text": [
            "Loaded 118102 annotations.\n",
            "Unique emotions found: ['amusement', 'anger', 'awe', 'contentment', 'disgust', 'excitement', 'fear', 'sadness']\n"
          ]
        }
      ]
    },
    {
      "cell_type": "markdown",
      "source": [
        "# Step 3: Define the CNN model for emotion classification"
      ],
      "metadata": {
        "id": "PvcJqFUJGUpi"
      }
    },
    {
      "cell_type": "code",
      "source": [
        "model = models.resnet50(pretrained=True)\n",
        "num_ftrs = model.fc.in_features\n",
        "model.fc = nn.Linear(num_ftrs, len(unique_emotions))"
      ],
      "metadata": {
        "id": "NCMvgQsxGYEB",
        "colab": {
          "base_uri": "https://localhost:8080/"
        },
        "outputId": "7cdba7a2-cfb8-40c0-833f-84feb16845e4"
      },
      "execution_count": null,
      "outputs": [
        {
          "output_type": "stream",
          "name": "stderr",
          "text": [
            "/usr/local/lib/python3.10/dist-packages/torchvision/models/_utils.py:208: UserWarning: The parameter 'pretrained' is deprecated since 0.13 and may be removed in the future, please use 'weights' instead.\n",
            "  warnings.warn(\n",
            "/usr/local/lib/python3.10/dist-packages/torchvision/models/_utils.py:223: UserWarning: Arguments other than a weight enum or `None` for 'weights' are deprecated since 0.13 and may be removed in the future. The current behavior is equivalent to passing `weights=ResNet50_Weights.IMAGENET1K_V1`. You can also use `weights=ResNet50_Weights.DEFAULT` to get the most up-to-date weights.\n",
            "  warnings.warn(msg)\n"
          ]
        }
      ]
    },
    {
      "cell_type": "markdown",
      "source": [
        "# Step 4: Define loss function and optimizer"
      ],
      "metadata": {
        "id": "0Yec5PhjGlCv"
      }
    },
    {
      "cell_type": "code",
      "source": [
        "criterion = nn.CrossEntropyLoss()\n",
        "optimizer = torch.optim.Adam(model.parameters(), lr=0.001)\n",
        "\n",
        "# Check if the data loader can fetch data\n",
        "for images, labels in data_loader:\n",
        "    print(f\"Fetched {images.shape[0]} samples.\")\n",
        "    break  # Only fetch one batch for checking\n"
      ],
      "metadata": {
        "colab": {
          "base_uri": "https://localhost:8080/"
        },
        "id": "Fe8qlneNGnVx",
        "outputId": "4e020c12-0200-4416-9248-7cd594586cd2"
      },
      "execution_count": null,
      "outputs": [
        {
          "output_type": "stream",
          "name": "stdout",
          "text": [
            "Fetched 32 samples.\n"
          ]
        }
      ]
    },
    {
      "cell_type": "markdown",
      "source": [
        "# Step 5: Train the model"
      ],
      "metadata": {
        "id": "LFJ809r3Gr7y"
      }
    },
    {
      "cell_type": "code",
      "source": [
        "num_epochs = 5  # Define the number of epochs\n",
        "for epoch in range(num_epochs):\n",
        "    model.train()\n",
        "    running_loss = 0.0\n",
        "    correct_predictions = 0\n",
        "\n",
        "    for inputs, labels in data_loader:\n",
        "        optimizer.zero_grad()\n",
        "        outputs = model(inputs)\n",
        "        loss = criterion(outputs, labels)\n",
        "        loss.backward()\n",
        "        optimizer.step()\n",
        "\n",
        "        running_loss += loss.item() * inputs.size(0)\n",
        "        _, preds = torch.max(outputs, 1)\n",
        "        correct_predictions += torch.sum(preds == labels.data)\n",
        "\n",
        "    epoch_loss = running_loss / len(data_loader.dataset)\n",
        "    epoch_acc = correct_predictions.double() / len(data_loader.dataset)\n",
        "\n",
        "    print(f'Epoch {epoch+1}/{num_epochs}, Loss: {epoch_loss:.4f}, Accuracy: {epoch_acc:.4f}')\n",
        "\n",
        "print('Finished Training')"
      ],
      "metadata": {
        "id": "Isy5nGnTGuif"
      },
      "execution_count": null,
      "outputs": []
    },
    {
      "cell_type": "markdown",
      "source": [
        "# Step 6: Evaluate the model"
      ],
      "metadata": {
        "id": "M5r-Sv1vGxdp"
      }
    },
    {
      "cell_type": "code",
      "source": [
        "model_path = '/content/drive/My Drive/emo_model.pth'\n",
        "torch.save(model.state_dict(), model_path)\n",
        "\n",
        "# Reload the model weights\n",
        "model.load_state_dict(torch.load(model_path))\n",
        "\n",
        "# Evaluate on the test set\n",
        "test_annotations = [anno for anno in annotations.values() if anno['split'] == 'test']\n",
        "test_dataset = EmoSetDataset(test_annotations, images_dir, transform=transform)\n",
        "test_loader = DataLoader(test_dataset, batch_size=32, shuffle=False)\n",
        "\n",
        "model.eval()\n",
        "running_corrects = 0\n",
        "\n",
        "for inputs, labels in test_loader:\n",
        "    outputs = model(inputs)\n",
        "    _, preds = torch.max(outputs, 1)\n",
        "    running_corrects += torch.sum(preds == labels.data)\n",
        "\n",
        "test_acc = running_corrects.double() / len(test_loader.dataset)\n",
        "print(f'Test Accuracy: {test_acc:.4f}')"
      ],
      "metadata": {
        "id": "TX80GsE_GzvJ"
      },
      "execution_count": null,
      "outputs": []
    }
  ]
}