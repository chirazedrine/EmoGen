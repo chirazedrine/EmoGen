{
  "nbformat": 4,
  "nbformat_minor": 0,
  "metadata": {
    "colab": {
      "provenance": [],
      "gpuType": "T4",
      "authorship_tag": "ABX9TyPMJWKR2zp178w0S4qOQxpa",
      "include_colab_link": true
    },
    "kernelspec": {
      "name": "python3",
      "display_name": "Python 3"
    },
    "language_info": {
      "name": "python"
    },
    "accelerator": "GPU"
  },
  "cells": [
    {
      "cell_type": "markdown",
      "metadata": {
        "id": "view-in-github",
        "colab_type": "text"
      },
      "source": [
        "<a href=\"https://colab.research.google.com/github/chirazedrine/EmoGen/blob/main/EmoGen.ipynb\" target=\"_parent\"><img src=\"https://colab.research.google.com/assets/colab-badge.svg\" alt=\"Open In Colab\"/></a>"
      ]
    },
    {
      "cell_type": "markdown",
      "source": [
        "# Step 0: Dowload dependencies"
      ],
      "metadata": {
        "id": "J72su8lnFrWS"
      }
    },
    {
      "cell_type": "code",
      "execution_count": 1,
      "metadata": {
        "colab": {
          "base_uri": "https://localhost:8080/"
        },
        "id": "6hht6ExRCr15",
        "outputId": "061c7514-b7be-4dfb-acef-2dcdaad5f9e5"
      },
      "outputs": [
        {
          "output_type": "stream",
          "name": "stdout",
          "text": [
            "Requirement already satisfied: torch in /usr/local/lib/python3.10/dist-packages (2.2.1+cu121)\n",
            "Requirement already satisfied: torchvision in /usr/local/lib/python3.10/dist-packages (0.17.1+cu121)\n",
            "Requirement already satisfied: filelock in /usr/local/lib/python3.10/dist-packages (from torch) (3.13.1)\n",
            "Requirement already satisfied: typing-extensions>=4.8.0 in /usr/local/lib/python3.10/dist-packages (from torch) (4.10.0)\n",
            "Requirement already satisfied: sympy in /usr/local/lib/python3.10/dist-packages (from torch) (1.12)\n",
            "Requirement already satisfied: networkx in /usr/local/lib/python3.10/dist-packages (from torch) (3.2.1)\n",
            "Requirement already satisfied: jinja2 in /usr/local/lib/python3.10/dist-packages (from torch) (3.1.3)\n",
            "Requirement already satisfied: fsspec in /usr/local/lib/python3.10/dist-packages (from torch) (2023.6.0)\n",
            "Collecting nvidia-cuda-nvrtc-cu12==12.1.105 (from torch)\n",
            "  Downloading nvidia_cuda_nvrtc_cu12-12.1.105-py3-none-manylinux1_x86_64.whl (23.7 MB)\n",
            "\u001b[2K     \u001b[90m━━━━━━━━━━━━━━━━━━━━━━━━━━━━━━━━━━━━━━━━\u001b[0m \u001b[32m23.7/23.7 MB\u001b[0m \u001b[31m20.1 MB/s\u001b[0m eta \u001b[36m0:00:00\u001b[0m\n",
            "\u001b[?25hCollecting nvidia-cuda-runtime-cu12==12.1.105 (from torch)\n",
            "  Downloading nvidia_cuda_runtime_cu12-12.1.105-py3-none-manylinux1_x86_64.whl (823 kB)\n",
            "\u001b[2K     \u001b[90m━━━━━━━━━━━━━━━━━━━━━━━━━━━━━━━━━━━━━━━━\u001b[0m \u001b[32m823.6/823.6 kB\u001b[0m \u001b[31m29.6 MB/s\u001b[0m eta \u001b[36m0:00:00\u001b[0m\n",
            "\u001b[?25hCollecting nvidia-cuda-cupti-cu12==12.1.105 (from torch)\n",
            "  Downloading nvidia_cuda_cupti_cu12-12.1.105-py3-none-manylinux1_x86_64.whl (14.1 MB)\n",
            "\u001b[2K     \u001b[90m━━━━━━━━━━━━━━━━━━━━━━━━━━━━━━━━━━━━━━━━\u001b[0m \u001b[32m14.1/14.1 MB\u001b[0m \u001b[31m32.4 MB/s\u001b[0m eta \u001b[36m0:00:00\u001b[0m\n",
            "\u001b[?25hCollecting nvidia-cudnn-cu12==8.9.2.26 (from torch)\n",
            "  Downloading nvidia_cudnn_cu12-8.9.2.26-py3-none-manylinux1_x86_64.whl (731.7 MB)\n",
            "\u001b[2K     \u001b[90m━━━━━━━━━━━━━━━━━━━━━━━━━━━━━━━━━━━━━━━━\u001b[0m \u001b[32m731.7/731.7 MB\u001b[0m \u001b[31m1.9 MB/s\u001b[0m eta \u001b[36m0:00:00\u001b[0m\n",
            "\u001b[?25hCollecting nvidia-cublas-cu12==12.1.3.1 (from torch)\n",
            "  Downloading nvidia_cublas_cu12-12.1.3.1-py3-none-manylinux1_x86_64.whl (410.6 MB)\n",
            "\u001b[2K     \u001b[90m━━━━━━━━━━━━━━━━━━━━━━━━━━━━━━━━━━━━━━━━\u001b[0m \u001b[32m410.6/410.6 MB\u001b[0m \u001b[31m2.8 MB/s\u001b[0m eta \u001b[36m0:00:00\u001b[0m\n",
            "\u001b[?25hCollecting nvidia-cufft-cu12==11.0.2.54 (from torch)\n",
            "  Downloading nvidia_cufft_cu12-11.0.2.54-py3-none-manylinux1_x86_64.whl (121.6 MB)\n",
            "\u001b[2K     \u001b[90m━━━━━━━━━━━━━━━━━━━━━━━━━━━━━━━━━━━━━━━━\u001b[0m \u001b[32m121.6/121.6 MB\u001b[0m \u001b[31m7.5 MB/s\u001b[0m eta \u001b[36m0:00:00\u001b[0m\n",
            "\u001b[?25hCollecting nvidia-curand-cu12==10.3.2.106 (from torch)\n",
            "  Downloading nvidia_curand_cu12-10.3.2.106-py3-none-manylinux1_x86_64.whl (56.5 MB)\n",
            "\u001b[2K     \u001b[90m━━━━━━━━━━━━━━━━━━━━━━━━━━━━━━━━━━━━━━━━\u001b[0m \u001b[32m56.5/56.5 MB\u001b[0m \u001b[31m11.8 MB/s\u001b[0m eta \u001b[36m0:00:00\u001b[0m\n",
            "\u001b[?25hCollecting nvidia-cusolver-cu12==11.4.5.107 (from torch)\n",
            "  Downloading nvidia_cusolver_cu12-11.4.5.107-py3-none-manylinux1_x86_64.whl (124.2 MB)\n",
            "\u001b[2K     \u001b[90m━━━━━━━━━━━━━━━━━━━━━━━━━━━━━━━━━━━━━━━━\u001b[0m \u001b[32m124.2/124.2 MB\u001b[0m \u001b[31m8.3 MB/s\u001b[0m eta \u001b[36m0:00:00\u001b[0m\n",
            "\u001b[?25hCollecting nvidia-cusparse-cu12==12.1.0.106 (from torch)\n",
            "  Downloading nvidia_cusparse_cu12-12.1.0.106-py3-none-manylinux1_x86_64.whl (196.0 MB)\n",
            "\u001b[2K     \u001b[90m━━━━━━━━━━━━━━━━━━━━━━━━━━━━━━━━━━━━━━━━\u001b[0m \u001b[32m196.0/196.0 MB\u001b[0m \u001b[31m6.5 MB/s\u001b[0m eta \u001b[36m0:00:00\u001b[0m\n",
            "\u001b[?25hCollecting nvidia-nccl-cu12==2.19.3 (from torch)\n",
            "  Downloading nvidia_nccl_cu12-2.19.3-py3-none-manylinux1_x86_64.whl (166.0 MB)\n",
            "\u001b[2K     \u001b[90m━━━━━━━━━━━━━━━━━━━━━━━━━━━━━━━━━━━━━━━━\u001b[0m \u001b[32m166.0/166.0 MB\u001b[0m \u001b[31m7.2 MB/s\u001b[0m eta \u001b[36m0:00:00\u001b[0m\n",
            "\u001b[?25hCollecting nvidia-nvtx-cu12==12.1.105 (from torch)\n",
            "  Downloading nvidia_nvtx_cu12-12.1.105-py3-none-manylinux1_x86_64.whl (99 kB)\n",
            "\u001b[2K     \u001b[90m━━━━━━━━━━━━━━━━━━━━━━━━━━━━━━━━━━━━━━━━\u001b[0m \u001b[32m99.1/99.1 kB\u001b[0m \u001b[31m15.4 MB/s\u001b[0m eta \u001b[36m0:00:00\u001b[0m\n",
            "\u001b[?25hRequirement already satisfied: triton==2.2.0 in /usr/local/lib/python3.10/dist-packages (from torch) (2.2.0)\n",
            "Collecting nvidia-nvjitlink-cu12 (from nvidia-cusolver-cu12==11.4.5.107->torch)\n",
            "  Downloading nvidia_nvjitlink_cu12-12.4.99-py3-none-manylinux2014_x86_64.whl (21.1 MB)\n",
            "\u001b[2K     \u001b[90m━━━━━━━━━━━━━━━━━━━━━━━━━━━━━━━━━━━━━━━━\u001b[0m \u001b[32m21.1/21.1 MB\u001b[0m \u001b[31m79.1 MB/s\u001b[0m eta \u001b[36m0:00:00\u001b[0m\n",
            "\u001b[?25hRequirement already satisfied: numpy in /usr/local/lib/python3.10/dist-packages (from torchvision) (1.25.2)\n",
            "Requirement already satisfied: pillow!=8.3.*,>=5.3.0 in /usr/local/lib/python3.10/dist-packages (from torchvision) (9.4.0)\n",
            "Requirement already satisfied: MarkupSafe>=2.0 in /usr/local/lib/python3.10/dist-packages (from jinja2->torch) (2.1.5)\n",
            "Requirement already satisfied: mpmath>=0.19 in /usr/local/lib/python3.10/dist-packages (from sympy->torch) (1.3.0)\n",
            "Installing collected packages: nvidia-nvtx-cu12, nvidia-nvjitlink-cu12, nvidia-nccl-cu12, nvidia-curand-cu12, nvidia-cufft-cu12, nvidia-cuda-runtime-cu12, nvidia-cuda-nvrtc-cu12, nvidia-cuda-cupti-cu12, nvidia-cublas-cu12, nvidia-cusparse-cu12, nvidia-cudnn-cu12, nvidia-cusolver-cu12\n",
            "Successfully installed nvidia-cublas-cu12-12.1.3.1 nvidia-cuda-cupti-cu12-12.1.105 nvidia-cuda-nvrtc-cu12-12.1.105 nvidia-cuda-runtime-cu12-12.1.105 nvidia-cudnn-cu12-8.9.2.26 nvidia-cufft-cu12-11.0.2.54 nvidia-curand-cu12-10.3.2.106 nvidia-cusolver-cu12-11.4.5.107 nvidia-cusparse-cu12-12.1.0.106 nvidia-nccl-cu12-2.19.3 nvidia-nvjitlink-cu12-12.4.99 nvidia-nvtx-cu12-12.1.105\n"
          ]
        }
      ],
      "source": [
        "!pip install torch torchvision"
      ]
    },
    {
      "cell_type": "markdown",
      "source": [
        "# Step 1: Download and extract the dataset"
      ],
      "metadata": {
        "id": "RWKDqmc7Ftwx"
      }
    },
    {
      "cell_type": "code",
      "source": [
        "!wget -O EmoSet-118K.zip \"https://www.dropbox.com/scl/fi/myue506itjfc06m7svdw6/EmoSet-118K.zip?dl=1&rlkey=7f3oyjkr6zyndf0gau7t140rv\"\n"
      ],
      "metadata": {
        "colab": {
          "base_uri": "https://localhost:8080/"
        },
        "id": "Ligk_oCSDAmm",
        "outputId": "f8584cda-5c11-4e04-a96b-9f7d08d960b3"
      },
      "execution_count": 2,
      "outputs": [
        {
          "output_type": "stream",
          "name": "stdout",
          "text": [
            "--2024-03-20 02:14:53--  https://www.dropbox.com/scl/fi/myue506itjfc06m7svdw6/EmoSet-118K.zip?dl=1&rlkey=7f3oyjkr6zyndf0gau7t140rv\n",
            "Resolving www.dropbox.com (www.dropbox.com)... 162.125.65.18, 2620:100:6017:18::a27d:212\n",
            "Connecting to www.dropbox.com (www.dropbox.com)|162.125.65.18|:443... connected.\n",
            "HTTP request sent, awaiting response... 302 Found\n",
            "Location: https://uc3da9e3c69a6eb79d34f4398d0e.dl.dropboxusercontent.com/cd/0/inline/CPZzfrzoZw4OTbodTjdmsgReD__QmN5WMiHYbrHcyifzjg5wgAYPNlCb51pZJTBQZ5Phb6-8KW0-xwoJ1DSywNGZG_MGT6Vlu9e0D0N9dNHbqOcR4IFzNGUU4pt7fNfSb0djFHrsCOsmi354xVp0SOkT/file?dl=1# [following]\n",
            "--2024-03-20 02:14:55--  https://uc3da9e3c69a6eb79d34f4398d0e.dl.dropboxusercontent.com/cd/0/inline/CPZzfrzoZw4OTbodTjdmsgReD__QmN5WMiHYbrHcyifzjg5wgAYPNlCb51pZJTBQZ5Phb6-8KW0-xwoJ1DSywNGZG_MGT6Vlu9e0D0N9dNHbqOcR4IFzNGUU4pt7fNfSb0djFHrsCOsmi354xVp0SOkT/file?dl=1\n",
            "Resolving uc3da9e3c69a6eb79d34f4398d0e.dl.dropboxusercontent.com (uc3da9e3c69a6eb79d34f4398d0e.dl.dropboxusercontent.com)... 162.125.2.15, 2620:100:6017:15::a27d:20f\n",
            "Connecting to uc3da9e3c69a6eb79d34f4398d0e.dl.dropboxusercontent.com (uc3da9e3c69a6eb79d34f4398d0e.dl.dropboxusercontent.com)|162.125.2.15|:443... connected.\n",
            "HTTP request sent, awaiting response... 302 Found\n",
            "Location: /cd/0/inline2/CPZpGRgrE-dJNC5LfKXBd2RJ51kL2WFQCWpEB3aqTJ6pY_WRBnHxGx1sWflAuLZ84HdhVe1v3pVBRBd1GRYvFGofshEU14CjAwj_vsKaSIdrNYhoxr6-2_4wu-7wTWcAMdRcxXlXZI99C--JrDWB6bjh-xVLGBnpXvkDhNH6kzfpRKLWNzKM6U6Svj9iAhfdl9LDkHgECbN1F1SOM37WinC4WHuX-CR5Jv1fxns2uHD-TfFskHVKTuLbuqFTDp6I4nmA617b8UnAt7H4jTBfOR0hWgWqZhAitiFw7uyk8p_25YJH95xmGdIRQSLUMoczmDCxBYgwgB4k4jmgRLxf22iGXa3GazYdJy1AWjIHNUnFrsCkFrhFGP4A2liwEWStsho/file?dl=1 [following]\n",
            "--2024-03-20 02:14:55--  https://uc3da9e3c69a6eb79d34f4398d0e.dl.dropboxusercontent.com/cd/0/inline2/CPZpGRgrE-dJNC5LfKXBd2RJ51kL2WFQCWpEB3aqTJ6pY_WRBnHxGx1sWflAuLZ84HdhVe1v3pVBRBd1GRYvFGofshEU14CjAwj_vsKaSIdrNYhoxr6-2_4wu-7wTWcAMdRcxXlXZI99C--JrDWB6bjh-xVLGBnpXvkDhNH6kzfpRKLWNzKM6U6Svj9iAhfdl9LDkHgECbN1F1SOM37WinC4WHuX-CR5Jv1fxns2uHD-TfFskHVKTuLbuqFTDp6I4nmA617b8UnAt7H4jTBfOR0hWgWqZhAitiFw7uyk8p_25YJH95xmGdIRQSLUMoczmDCxBYgwgB4k4jmgRLxf22iGXa3GazYdJy1AWjIHNUnFrsCkFrhFGP4A2liwEWStsho/file?dl=1\n",
            "Reusing existing connection to uc3da9e3c69a6eb79d34f4398d0e.dl.dropboxusercontent.com:443.\n",
            "HTTP request sent, awaiting response... 200 OK\n",
            "Length: 11288914945 (11G) [application/binary]\n",
            "Saving to: ‘EmoSet-118K.zip’\n",
            "\n",
            "EmoSet-118K.zip     100%[===================>]  10.51G  89.9MB/s    in 2m 1s   \n",
            "\n",
            "2024-03-20 02:16:57 (88.7 MB/s) - ‘EmoSet-118K.zip’ saved [11288914945/11288914945]\n",
            "\n"
          ]
        }
      ]
    },
    {
      "cell_type": "code",
      "source": [
        "!unzip -q EmoSet-118K.zip"
      ],
      "metadata": {
        "id": "YBf4o0f4Deuz"
      },
      "execution_count": 3,
      "outputs": []
    },
    {
      "cell_type": "code",
      "source": [
        "!mkdir -p /content/EmoSet-118K\n",
        "!mv /content/annotation /content/EmoSet-118K/\n",
        "!mv /content/image /content/EmoSet-118K/\n",
        "!mv /content/*.json /content/EmoSet-118K/\n"
      ],
      "metadata": {
        "id": "8_DYzG5xFjDx"
      },
      "execution_count": 4,
      "outputs": []
    },
    {
      "cell_type": "markdown",
      "source": [
        "# Step 2: Parse the JSON files to create a mapping for image paths and labels"
      ],
      "metadata": {
        "id": "xHGVt4cTFn_G"
      }
    },
    {
      "cell_type": "code",
      "source": [
        "import os\n",
        "import json\n",
        "import torch\n",
        "import torchvision.models as models\n",
        "from torchvision import transforms\n",
        "from torch.utils.data import Dataset, DataLoader\n",
        "from PIL import Image\n",
        "import torch.nn as nn\n",
        "\n",
        "# Define directories\n",
        "base_path = '/content/EmoSet-118K'\n",
        "annotations_dir = os.path.join(base_path, 'annotation')\n",
        "images_dir = os.path.join(base_path, 'image')\n",
        "\n",
        "# Define a function to parse JSON annotations\n",
        "def parse_annotations(annotations_dir):\n",
        "    annotations = []\n",
        "    for emotion_dir_name in os.listdir(annotations_dir):\n",
        "        emotion_dir_path = os.path.join(annotations_dir, emotion_dir_name)\n",
        "        if os.path.isdir(emotion_dir_path):\n",
        "            for annotation_file in os.listdir(emotion_dir_path):\n",
        "                annotation_file_path = os.path.join(emotion_dir_path, annotation_file)\n",
        "                with open(annotation_file_path, 'r') as f:\n",
        "                    annotation_data = json.load(f)\n",
        "                    annotations.append(annotation_data)\n",
        "    return annotations\n",
        "\n",
        "annotations = parse_annotations(annotations_dir)\n",
        "\n",
        "# Verify the number of annotations loaded\n",
        "print(f\"Loaded {len(annotations)} annotations.\")\n",
        "\n",
        "# Extract unique emotions and create a mapping to indices\n",
        "unique_emotions = sorted({anno['emotion'] for anno in annotations})\n",
        "emotion_to_idx = {emotion: idx for idx, emotion in enumerate(unique_emotions)}\n",
        "print(f\"Unique emotions found: {list(emotion_to_idx.keys())}\")\n",
        "\n",
        "# Custom Dataset class\n",
        "class EmoSetDataset(Dataset):\n",
        "    def __init__(self, annotations, images_dir, transform=None):\n",
        "        self.annotations = annotations\n",
        "        self.images_dir = images_dir\n",
        "        self.transform = transform\n",
        "\n",
        "    def __len__(self):\n",
        "        return len(self.annotations)\n",
        "\n",
        "    def __getitem__(self, idx):\n",
        "        annotation = self.annotations[idx]\n",
        "        image_path = os.path.join(self.images_dir, annotation['emotion'], f\"{annotation['image_id']}.jpg\")\n",
        "        image = Image.open(image_path).convert('RGB')\n",
        "        label = emotion_to_idx[annotation['emotion']]\n",
        "\n",
        "        if self.transform:\n",
        "            image = self.transform(image)\n",
        "\n",
        "        return image, label\n",
        "\n",
        "# Transformations\n",
        "transform = transforms.Compose([\n",
        "    transforms.Resize((224, 224)),\n",
        "    transforms.ToTensor(),\n",
        "    transforms.Normalize(mean=[0.485, 0.456, 0.406], std=[0.229, 0.224, 0.225]),\n",
        "])\n",
        "\n",
        "# Dataset and DataLoader\n",
        "dataset = EmoSetDataset(annotations, images_dir, transform=transform)\n",
        "data_loader = DataLoader(dataset, batch_size=32, shuffle=True)\n"
      ],
      "metadata": {
        "id": "qCP3iwIYFpSO",
        "colab": {
          "base_uri": "https://localhost:8080/"
        },
        "outputId": "01061858-68de-40b2-f657-c713783e823e"
      },
      "execution_count": 5,
      "outputs": [
        {
          "output_type": "stream",
          "name": "stdout",
          "text": [
            "Loaded 118102 annotations.\n",
            "Unique emotions found: ['amusement', 'anger', 'awe', 'contentment', 'disgust', 'excitement', 'fear', 'sadness']\n"
          ]
        }
      ]
    },
    {
      "cell_type": "markdown",
      "source": [
        "# Step 3: Define the CNN model for emotion classification"
      ],
      "metadata": {
        "id": "PvcJqFUJGUpi"
      }
    },
    {
      "cell_type": "code",
      "source": [
        "model = models.resnet50(pretrained=True)\n",
        "num_ftrs = model.fc.in_features\n",
        "model.fc = nn.Linear(num_ftrs, len(unique_emotions))"
      ],
      "metadata": {
        "id": "NCMvgQsxGYEB",
        "colab": {
          "base_uri": "https://localhost:8080/"
        },
        "outputId": "48a91eea-e465-4a74-d791-616afb7d5b1f"
      },
      "execution_count": 6,
      "outputs": [
        {
          "output_type": "stream",
          "name": "stderr",
          "text": [
            "/usr/local/lib/python3.10/dist-packages/torchvision/models/_utils.py:208: UserWarning: The parameter 'pretrained' is deprecated since 0.13 and may be removed in the future, please use 'weights' instead.\n",
            "  warnings.warn(\n",
            "/usr/local/lib/python3.10/dist-packages/torchvision/models/_utils.py:223: UserWarning: Arguments other than a weight enum or `None` for 'weights' are deprecated since 0.13 and may be removed in the future. The current behavior is equivalent to passing `weights=ResNet50_Weights.IMAGENET1K_V1`. You can also use `weights=ResNet50_Weights.DEFAULT` to get the most up-to-date weights.\n",
            "  warnings.warn(msg)\n",
            "Downloading: \"https://download.pytorch.org/models/resnet50-0676ba61.pth\" to /root/.cache/torch/hub/checkpoints/resnet50-0676ba61.pth\n",
            "100%|██████████| 97.8M/97.8M [00:00<00:00, 161MB/s]\n"
          ]
        }
      ]
    },
    {
      "cell_type": "markdown",
      "source": [
        "# Step 4: Define loss function and optimizer"
      ],
      "metadata": {
        "id": "0Yec5PhjGlCv"
      }
    },
    {
      "cell_type": "code",
      "source": [
        "criterion = nn.CrossEntropyLoss()\n",
        "optimizer = torch.optim.Adam(model.parameters(), lr=0.001)\n",
        "\n",
        "# Check if the data loader can fetch data\n",
        "for images, labels in data_loader:\n",
        "    print(f\"Fetched {images.shape[0]} samples.\")\n",
        "    break  # Only fetch one batch for checking\n"
      ],
      "metadata": {
        "colab": {
          "base_uri": "https://localhost:8080/"
        },
        "id": "Fe8qlneNGnVx",
        "outputId": "9c2a7bc8-0be2-4548-b88c-3f00d63da845"
      },
      "execution_count": 7,
      "outputs": [
        {
          "output_type": "stream",
          "name": "stdout",
          "text": [
            "Fetched 32 samples.\n"
          ]
        }
      ]
    },
    {
      "cell_type": "markdown",
      "source": [
        "# Step 5: Train the model"
      ],
      "metadata": {
        "id": "LFJ809r3Gr7y"
      }
    },
    {
      "cell_type": "code",
      "source": [
        "!pip install tqdm"
      ],
      "metadata": {
        "colab": {
          "base_uri": "https://localhost:8080/"
        },
        "id": "EN3PKkLRk8KD",
        "outputId": "79a0b80d-341f-44fc-f58e-f7549b83712d"
      },
      "execution_count": 8,
      "outputs": [
        {
          "output_type": "stream",
          "name": "stdout",
          "text": [
            "Requirement already satisfied: tqdm in /usr/local/lib/python3.10/dist-packages (4.66.2)\n"
          ]
        }
      ]
    },
    {
      "cell_type": "code",
      "source": [
        "import torch\n",
        "from tqdm import tqdm\n",
        "\n",
        "# Setup device: Use GPU if available, else fall back to CPU\n",
        "device = torch.device('cuda' if torch.cuda.is_available() else 'cpu')\n",
        "print(f'Using device: {device}')\n",
        "\n",
        "model = model.to(device)\n",
        "\n",
        "num_epochs = 5\n",
        "\n",
        "# Start the training loop\n",
        "for epoch in range(num_epochs):\n",
        "    model.train()  # Set the model to training mode\n",
        "    running_loss = 0.0\n",
        "    correct_predictions = 0\n",
        "    total_predictions = 0\n",
        "\n",
        "    # Wrap your data loader with tqdm for a progress bar\n",
        "    data_loader_tqdm = tqdm(data_loader, desc=f'Epoch {epoch+1}/{num_epochs}', leave=True)\n",
        "\n",
        "    for inputs, labels in data_loader_tqdm:\n",
        "        # Move inputs and labels to the correct device\n",
        "        inputs, labels = inputs.to(device), labels.to(device)\n",
        "\n",
        "        # Zero the parameter gradients\n",
        "        optimizer.zero_grad()\n",
        "\n",
        "        # Forward pass, backward pass, and optimize\n",
        "        outputs = model(inputs)\n",
        "        loss = criterion(outputs, labels)\n",
        "        loss.backward()\n",
        "        optimizer.step()\n",
        "\n",
        "        # Calculate and accumulate loss and accuracy\n",
        "        running_loss += loss.item() * inputs.size(0)\n",
        "        _, preds = torch.max(outputs, 1)\n",
        "        correct_predictions += torch.sum(preds == labels.data)\n",
        "        total_predictions += labels.size(0)\n",
        "\n",
        "        # Update the progress bar with the current loss and accuracy\n",
        "        data_loader_tqdm.set_description(f'Epoch {epoch+1}/{num_epochs} Loss: {running_loss/total_predictions:.4f} Acc: {correct_predictions.double()/total_predictions:.4f}')\n",
        "\n",
        "    # Log the metrics for the epoch\n",
        "    print(f'Finished Epoch {epoch+1}/{num_epochs}, Loss: {running_loss/total_predictions:.4f}, Accuracy: {correct_predictions.double()/total_predictions:.4f}')\n",
        "\n",
        "print('Finished Training')"
      ],
      "metadata": {
        "id": "Isy5nGnTGuif",
        "colab": {
          "base_uri": "https://localhost:8080/"
        },
        "outputId": "1b207e9e-0709-4efd-e8c2-b8ab21ad083a"
      },
      "execution_count": null,
      "outputs": [
        {
          "output_type": "stream",
          "name": "stdout",
          "text": [
            "Using device: cuda\n"
          ]
        },
        {
          "output_type": "stream",
          "name": "stderr",
          "text": [
            "Epoch 1/5 Loss: 1.7553 Acc: 0.3594:   9%|▉         | 334/3691 [03:40<37:31,  1.49it/s]"
          ]
        }
      ]
    },
    {
      "cell_type": "markdown",
      "source": [
        "# Step 6: Evaluate the model"
      ],
      "metadata": {
        "id": "M5r-Sv1vGxdp"
      }
    },
    {
      "cell_type": "code",
      "source": [
        "import torch\n",
        "model_path = '/content/drive/My Drive/emo_model.pth'\n",
        "torch.save(model.state_dict(), model_path)\n",
        "\n",
        "# Reload the model weights\n",
        "model.load_state_dict(torch.load(model_path))\n",
        "\n",
        "# Evaluate on the test set\n",
        "test_annotations = [anno for anno in annotations.values() if anno['split'] == 'test']\n",
        "test_dataset = EmoSetDataset(test_annotations, images_dir, transform=transform)\n",
        "test_loader = DataLoader(test_dataset, batch_size=32, shuffle=False)\n",
        "\n",
        "model.eval()\n",
        "running_corrects = 0\n",
        "\n",
        "for inputs, labels in test_loader:\n",
        "    outputs = model(inputs)\n",
        "    _, preds = torch.max(outputs, 1)\n",
        "    running_corrects += torch.sum(preds == labels.data)\n",
        "\n",
        "test_acc = running_corrects.double() / len(test_loader.dataset)\n",
        "print(f'Test Accuracy: {test_acc:.4f}')"
      ],
      "metadata": {
        "id": "TX80GsE_GzvJ",
        "colab": {
          "base_uri": "https://localhost:8080/",
          "height": 211
        },
        "outputId": "ceabd48d-d996-4351-86e7-4c6f6326e49c"
      },
      "execution_count": 2,
      "outputs": [
        {
          "output_type": "error",
          "ename": "NameError",
          "evalue": "name 'model' is not defined",
          "traceback": [
            "\u001b[0;31m---------------------------------------------------------------------------\u001b[0m",
            "\u001b[0;31mNameError\u001b[0m                                 Traceback (most recent call last)",
            "\u001b[0;32m<ipython-input-2-55e9ac1135c4>\u001b[0m in \u001b[0;36m<cell line: 3>\u001b[0;34m()\u001b[0m\n\u001b[1;32m      1\u001b[0m \u001b[0;32mimport\u001b[0m \u001b[0mtorch\u001b[0m\u001b[0;34m\u001b[0m\u001b[0;34m\u001b[0m\u001b[0m\n\u001b[1;32m      2\u001b[0m \u001b[0mmodel_path\u001b[0m \u001b[0;34m=\u001b[0m \u001b[0;34m'/content/drive/My Drive/emo_model.pth'\u001b[0m\u001b[0;34m\u001b[0m\u001b[0;34m\u001b[0m\u001b[0m\n\u001b[0;32m----> 3\u001b[0;31m \u001b[0mtorch\u001b[0m\u001b[0;34m.\u001b[0m\u001b[0msave\u001b[0m\u001b[0;34m(\u001b[0m\u001b[0mmodel\u001b[0m\u001b[0;34m.\u001b[0m\u001b[0mstate_dict\u001b[0m\u001b[0;34m(\u001b[0m\u001b[0;34m)\u001b[0m\u001b[0;34m,\u001b[0m \u001b[0mmodel_path\u001b[0m\u001b[0;34m)\u001b[0m\u001b[0;34m\u001b[0m\u001b[0;34m\u001b[0m\u001b[0m\n\u001b[0m\u001b[1;32m      4\u001b[0m \u001b[0;34m\u001b[0m\u001b[0m\n\u001b[1;32m      5\u001b[0m \u001b[0;31m# Reload the model weights\u001b[0m\u001b[0;34m\u001b[0m\u001b[0;34m\u001b[0m\u001b[0m\n",
            "\u001b[0;31mNameError\u001b[0m: name 'model' is not defined"
          ]
        }
      ]
    }
  ]
}